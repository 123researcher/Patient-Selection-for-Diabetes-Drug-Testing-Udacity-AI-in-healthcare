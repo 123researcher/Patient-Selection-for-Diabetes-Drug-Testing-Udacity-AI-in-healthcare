{
 "cells": [
  {
   "cell_type": "markdown",
   "metadata": {},
   "source": [
    "# Overview"
   ]
  },
  {
   "cell_type": "markdown",
   "metadata": {},
   "source": [
    "1. Project Instructions & Prerequisites\n",
    "2. Learning Objectives\n",
    "3. Data Preparation\n",
    "4. Create Categorical Features with TF Feature Columns\n",
    "5. Create Continuous/Numerical Features with TF Feature Columns\n",
    "6. Build Deep Learning Regression Model with Sequential API and TF Probability Layers\n",
    "7. Evaluating Potential Model Biases with Aequitas Toolkit\n"
   ]
  },
  {
   "cell_type": "markdown",
   "metadata": {},
   "source": [
    "#  1. Project Instructions & Prerequisites"
   ]
  },
  {
   "cell_type": "markdown",
   "metadata": {},
   "source": [
    "## Project Instructions"
   ]
  },
  {
   "cell_type": "markdown",
   "metadata": {},
   "source": [
    "**Context**: EHR data is becoming a key source of real-world evidence (RWE) for the pharmaceutical industry and regulators to [make decisions on clinical trials](https://www.fda.gov/news-events/speeches-fda-officials/breaking-down-barriers-between-clinical-trials-and-clinical-care-incorporating-real-world-evidence). You are a data scientist for an exciting unicorn healthcare startup that has created a groundbreaking diabetes drug that is ready for clinical trial testing. It is a very unique and sensitive drug that requires administering the drug over at least 5-7 days of time in the hospital with frequent monitoring/testing and patient medication adherence training with a mobile application. You have been provided a patient dataset from a client partner and are tasked with building a predictive model that can identify which type of patients the company should focus their efforts testing this drug on. Target patients are people that are likely to be in the hospital for this duration of time and will not incur significant additional costs for administering this drug to the patient and monitoring.  \n",
    "\n",
    "In order to achieve your goal you must build a regression model that can predict the estimated hospitalization time for a patient and use this to select/filter patients for your study.\n"
   ]
  },
  {
   "cell_type": "markdown",
   "metadata": {},
   "source": [
    "**Expected Hospitalization Time Regression Model:** Utilizing a synthetic dataset(denormalized at the line level augmentation) built off of the UCI Diabetes readmission dataset, students will build a regression model that predicts the expected days of hospitalization time and then convert this to a binary prediction of whether to include or exclude that patient from the clinical trial.\n",
    "\n",
    "This project will demonstrate the importance of building the right data representation at the encounter level, with appropriate filtering and preprocessing/feature engineering of key medical code sets. This project will also require students to analyze and interpret their model for biases across key demographic groups. \n",
    "\n",
    "Please see the project rubric online for more details on the areas your project will be evaluated."
   ]
  },
  {
   "cell_type": "markdown",
   "metadata": {},
   "source": [
    "### Dataset"
   ]
  },
  {
   "cell_type": "markdown",
   "metadata": {},
   "source": [
    "Due to healthcare PHI regulations (HIPAA, HITECH), there are limited number of publicly available datasets and some datasets require training and approval. So, for the purpose of this exercise, we are using a dataset from UC Irvine(https://archive.ics.uci.edu/ml/datasets/Diabetes+130-US+hospitals+for+years+1999-2008) that has been modified for this course. Please note that it is limited in its representation of some key features such as diagnosis codes which are usually an unordered list in 835s/837s (the HL7 standard interchange formats used for claims and remits)."
   ]
  },
  {
   "cell_type": "markdown",
   "metadata": {},
   "source": [
    "**Data Schema**\n",
    "The dataset reference information can be https://github.com/udacity/nd320-c1-emr-data-starter/blob/master/project/data_schema_references/\n",
    ". There are two CSVs that provide more details on the fields and some of the mapped values."
   ]
  },
  {
   "cell_type": "markdown",
   "metadata": {},
   "source": [
    "## Project Submission "
   ]
  },
  {
   "cell_type": "markdown",
   "metadata": {},
   "source": [
    "When submitting this project, make sure to run all the cells before saving the notebook. Save the notebook file as \"student_project_submission.ipynb\" and save another copy as an HTML file by clicking \"File\" -> \"Download as..\"->\"html\". Include the \"utils.py\" and \"student_utils.py\" files in your submission. The student_utils.py should be where you put most of your code that you write and the summary and text explanations should be written inline in the notebook. Once you download these files, compress them into one zip file for submission."
   ]
  },
  {
   "cell_type": "markdown",
   "metadata": {},
   "source": [
    "## Prerequisites "
   ]
  },
  {
   "cell_type": "markdown",
   "metadata": {},
   "source": [
    "- Intermediate level knowledge of Python\n",
    "- Basic knowledge of probability and statistics\n",
    "- Basic knowledge of machine learning concepts\n",
    "- Installation of Tensorflow 2.0 and other dependencies(conda environment.yml or virtualenv requirements.txt file provided)"
   ]
  },
  {
   "cell_type": "markdown",
   "metadata": {},
   "source": [
    "## Environment Setup"
   ]
  },
  {
   "cell_type": "markdown",
   "metadata": {},
   "source": [
    "For step by step instructions on creating your environment, please go to https://github.com/udacity/nd320-c1-emr-data-starter/blob/master/project/README.md."
   ]
  },
  {
   "cell_type": "markdown",
   "metadata": {},
   "source": [
    "# 2.  Learning Objectives"
   ]
  },
  {
   "cell_type": "markdown",
   "metadata": {},
   "source": [
    "By the end of the project, you will be able to \n",
    "   - Use the Tensorflow Dataset API to scalably extract, transform, and load datasets and build datasets aggregated at the line, encounter, and patient data levels(longitudinal)\n",
    "   - Analyze EHR datasets to check for common issues (data leakage, statistical properties, missing values, high cardinality) by performing exploratory data analysis.\n",
    "   - Create categorical features from Key Industry Code Sets (ICD, CPT, NDC) and reduce dimensionality for high cardinality features by using embeddings \n",
    "   - Create derived features(bucketing, cross-features, embeddings) utilizing Tensorflow feature columns on both continuous and categorical input features\n",
    "   - SWBAT use the Tensorflow Probability library to train a model that provides uncertainty range predictions that allow for risk adjustment/prioritization and triaging of predictions\n",
    "   - Analyze and determine biases for a model for key demographic groups by evaluating performance metrics across groups by using the Aequitas framework \n"
   ]
  },
  {
   "cell_type": "markdown",
   "metadata": {},
   "source": [
    "# 3. Data Preparation"
   ]
  },
  {
   "cell_type": "code",
   "execution_count": 1,
   "metadata": {},
   "outputs": [],
   "source": [
    "# from __future__ import absolute_import, division, print_function, unicode_literals\n",
    "import os\n",
    "import numpy as np\n",
    "import tensorflow as tf\n",
    "from tensorflow.keras import layers\n",
    "import tensorflow_probability as tfp\n",
    "import matplotlib.pyplot as plt\n",
    "import pandas as pd\n",
    "import aequitas as ae\n",
    "import seaborn as sns\n",
    "# Put all of the helper functions in utils\n",
    "from utils import build_vocab_files, show_group_stats_viz, aggregate_dataset, preprocess_df, df_to_dataset, posterior_mean_field, prior_trainable\n",
    "pd.set_option('display.max_columns', 500)\n",
    "# this allows you to make changes and save in student_utils.py and the file is reloaded every time you run a code block\n",
    "%load_ext autoreload\n",
    "%autoreload"
   ]
  },
  {
   "cell_type": "code",
   "execution_count": 2,
   "metadata": {},
   "outputs": [],
   "source": [
    "#OPEN ISSUE ON MAC OSX for TF model training\n",
    "import os\n",
    "os.environ['KMP_DUPLICATE_LIB_OK']='True'"
   ]
  },
  {
   "cell_type": "markdown",
   "metadata": {},
   "source": [
    "## Dataset Loading and Schema Review"
   ]
  },
  {
   "cell_type": "markdown",
   "metadata": {},
   "source": [
    "Load the dataset and view a sample of the dataset along with reviewing the schema reference files to gain a deeper understanding of the dataset. The dataset is located at the following path https://github.com/udacity/nd320-c1-emr-data-starter/blob/master/project/starter_code/data/final_project_dataset.csv. Also, review the information found in the data schema https://github.com/udacity/nd320-c1-emr-data-starter/blob/master/project/data_schema_references/"
   ]
  },
  {
   "cell_type": "code",
   "execution_count": 3,
   "metadata": {},
   "outputs": [],
   "source": [
    "dataset_path = \"./data/final_project_dataset.csv\"\n",
    "df = pd.read_csv(dataset_path)"
   ]
  },
  {
   "cell_type": "code",
   "execution_count": 4,
   "metadata": {},
   "outputs": [
    {
     "data": {
      "text/html": [
       "<div>\n",
       "<style scoped>\n",
       "    .dataframe tbody tr th:only-of-type {\n",
       "        vertical-align: middle;\n",
       "    }\n",
       "\n",
       "    .dataframe tbody tr th {\n",
       "        vertical-align: top;\n",
       "    }\n",
       "\n",
       "    .dataframe thead th {\n",
       "        text-align: right;\n",
       "    }\n",
       "</style>\n",
       "<table border=\"1\" class=\"dataframe\">\n",
       "  <thead>\n",
       "    <tr style=\"text-align: right;\">\n",
       "      <th></th>\n",
       "      <th>encounter_id</th>\n",
       "      <th>patient_nbr</th>\n",
       "      <th>race</th>\n",
       "      <th>gender</th>\n",
       "      <th>age</th>\n",
       "      <th>weight</th>\n",
       "      <th>admission_type_id</th>\n",
       "      <th>discharge_disposition_id</th>\n",
       "      <th>admission_source_id</th>\n",
       "      <th>time_in_hospital</th>\n",
       "      <th>payer_code</th>\n",
       "      <th>medical_specialty</th>\n",
       "      <th>primary_diagnosis_code</th>\n",
       "      <th>other_diagnosis_codes</th>\n",
       "      <th>number_outpatient</th>\n",
       "      <th>number_inpatient</th>\n",
       "      <th>number_emergency</th>\n",
       "      <th>num_lab_procedures</th>\n",
       "      <th>number_diagnoses</th>\n",
       "      <th>num_medications</th>\n",
       "      <th>num_procedures</th>\n",
       "      <th>ndc_code</th>\n",
       "      <th>max_glu_serum</th>\n",
       "      <th>A1Cresult</th>\n",
       "      <th>change</th>\n",
       "      <th>readmitted</th>\n",
       "    </tr>\n",
       "  </thead>\n",
       "  <tbody>\n",
       "    <tr>\n",
       "      <th>0</th>\n",
       "      <td>2278392</td>\n",
       "      <td>8222157</td>\n",
       "      <td>Caucasian</td>\n",
       "      <td>Female</td>\n",
       "      <td>[0-10)</td>\n",
       "      <td>?</td>\n",
       "      <td>6</td>\n",
       "      <td>25</td>\n",
       "      <td>1</td>\n",
       "      <td>1</td>\n",
       "      <td>?</td>\n",
       "      <td>Pediatrics-Endocrinology</td>\n",
       "      <td>250.83</td>\n",
       "      <td>?|?</td>\n",
       "      <td>0</td>\n",
       "      <td>0</td>\n",
       "      <td>0</td>\n",
       "      <td>41</td>\n",
       "      <td>1</td>\n",
       "      <td>1</td>\n",
       "      <td>0</td>\n",
       "      <td>NaN</td>\n",
       "      <td>None</td>\n",
       "      <td>None</td>\n",
       "      <td>No</td>\n",
       "      <td>NO</td>\n",
       "    </tr>\n",
       "    <tr>\n",
       "      <th>1</th>\n",
       "      <td>149190</td>\n",
       "      <td>55629189</td>\n",
       "      <td>Caucasian</td>\n",
       "      <td>Female</td>\n",
       "      <td>[10-20)</td>\n",
       "      <td>?</td>\n",
       "      <td>1</td>\n",
       "      <td>1</td>\n",
       "      <td>7</td>\n",
       "      <td>3</td>\n",
       "      <td>?</td>\n",
       "      <td>?</td>\n",
       "      <td>276</td>\n",
       "      <td>250.01|255</td>\n",
       "      <td>0</td>\n",
       "      <td>0</td>\n",
       "      <td>0</td>\n",
       "      <td>59</td>\n",
       "      <td>9</td>\n",
       "      <td>18</td>\n",
       "      <td>0</td>\n",
       "      <td>68071-1701</td>\n",
       "      <td>None</td>\n",
       "      <td>None</td>\n",
       "      <td>Ch</td>\n",
       "      <td>&gt;30</td>\n",
       "    </tr>\n",
       "    <tr>\n",
       "      <th>2</th>\n",
       "      <td>64410</td>\n",
       "      <td>86047875</td>\n",
       "      <td>AfricanAmerican</td>\n",
       "      <td>Female</td>\n",
       "      <td>[20-30)</td>\n",
       "      <td>?</td>\n",
       "      <td>1</td>\n",
       "      <td>1</td>\n",
       "      <td>7</td>\n",
       "      <td>2</td>\n",
       "      <td>?</td>\n",
       "      <td>?</td>\n",
       "      <td>648</td>\n",
       "      <td>250|V27</td>\n",
       "      <td>2</td>\n",
       "      <td>1</td>\n",
       "      <td>0</td>\n",
       "      <td>11</td>\n",
       "      <td>6</td>\n",
       "      <td>13</td>\n",
       "      <td>5</td>\n",
       "      <td>0378-1110</td>\n",
       "      <td>None</td>\n",
       "      <td>None</td>\n",
       "      <td>No</td>\n",
       "      <td>NO</td>\n",
       "    </tr>\n",
       "    <tr>\n",
       "      <th>3</th>\n",
       "      <td>500364</td>\n",
       "      <td>82442376</td>\n",
       "      <td>Caucasian</td>\n",
       "      <td>Male</td>\n",
       "      <td>[30-40)</td>\n",
       "      <td>?</td>\n",
       "      <td>1</td>\n",
       "      <td>1</td>\n",
       "      <td>7</td>\n",
       "      <td>2</td>\n",
       "      <td>?</td>\n",
       "      <td>?</td>\n",
       "      <td>8</td>\n",
       "      <td>250.43|403</td>\n",
       "      <td>0</td>\n",
       "      <td>0</td>\n",
       "      <td>0</td>\n",
       "      <td>44</td>\n",
       "      <td>7</td>\n",
       "      <td>16</td>\n",
       "      <td>1</td>\n",
       "      <td>68071-1701</td>\n",
       "      <td>None</td>\n",
       "      <td>None</td>\n",
       "      <td>Ch</td>\n",
       "      <td>NO</td>\n",
       "    </tr>\n",
       "    <tr>\n",
       "      <th>4</th>\n",
       "      <td>16680</td>\n",
       "      <td>42519267</td>\n",
       "      <td>Caucasian</td>\n",
       "      <td>Male</td>\n",
       "      <td>[40-50)</td>\n",
       "      <td>?</td>\n",
       "      <td>1</td>\n",
       "      <td>1</td>\n",
       "      <td>7</td>\n",
       "      <td>1</td>\n",
       "      <td>?</td>\n",
       "      <td>?</td>\n",
       "      <td>197</td>\n",
       "      <td>157|250</td>\n",
       "      <td>0</td>\n",
       "      <td>0</td>\n",
       "      <td>0</td>\n",
       "      <td>51</td>\n",
       "      <td>5</td>\n",
       "      <td>8</td>\n",
       "      <td>0</td>\n",
       "      <td>0049-4110</td>\n",
       "      <td>None</td>\n",
       "      <td>None</td>\n",
       "      <td>Ch</td>\n",
       "      <td>NO</td>\n",
       "    </tr>\n",
       "  </tbody>\n",
       "</table>\n",
       "</div>"
      ],
      "text/plain": [
       "   encounter_id  patient_nbr             race  gender      age weight  \\\n",
       "0       2278392      8222157        Caucasian  Female   [0-10)      ?   \n",
       "1        149190     55629189        Caucasian  Female  [10-20)      ?   \n",
       "2         64410     86047875  AfricanAmerican  Female  [20-30)      ?   \n",
       "3        500364     82442376        Caucasian    Male  [30-40)      ?   \n",
       "4         16680     42519267        Caucasian    Male  [40-50)      ?   \n",
       "\n",
       "   admission_type_id  discharge_disposition_id  admission_source_id  \\\n",
       "0                  6                        25                    1   \n",
       "1                  1                         1                    7   \n",
       "2                  1                         1                    7   \n",
       "3                  1                         1                    7   \n",
       "4                  1                         1                    7   \n",
       "\n",
       "   time_in_hospital payer_code         medical_specialty  \\\n",
       "0                 1          ?  Pediatrics-Endocrinology   \n",
       "1                 3          ?                         ?   \n",
       "2                 2          ?                         ?   \n",
       "3                 2          ?                         ?   \n",
       "4                 1          ?                         ?   \n",
       "\n",
       "  primary_diagnosis_code other_diagnosis_codes  number_outpatient  \\\n",
       "0                 250.83                   ?|?                  0   \n",
       "1                    276            250.01|255                  0   \n",
       "2                    648               250|V27                  2   \n",
       "3                      8            250.43|403                  0   \n",
       "4                    197               157|250                  0   \n",
       "\n",
       "   number_inpatient  number_emergency  num_lab_procedures  number_diagnoses  \\\n",
       "0                 0                 0                  41                 1   \n",
       "1                 0                 0                  59                 9   \n",
       "2                 1                 0                  11                 6   \n",
       "3                 0                 0                  44                 7   \n",
       "4                 0                 0                  51                 5   \n",
       "\n",
       "   num_medications  num_procedures    ndc_code max_glu_serum A1Cresult change  \\\n",
       "0                1               0         NaN          None      None     No   \n",
       "1               18               0  68071-1701          None      None     Ch   \n",
       "2               13               5   0378-1110          None      None     No   \n",
       "3               16               1  68071-1701          None      None     Ch   \n",
       "4                8               0   0049-4110          None      None     Ch   \n",
       "\n",
       "  readmitted  \n",
       "0         NO  \n",
       "1        >30  \n",
       "2         NO  \n",
       "3         NO  \n",
       "4         NO  "
      ]
     },
     "execution_count": 4,
     "metadata": {},
     "output_type": "execute_result"
    }
   ],
   "source": [
    "df.head()"
   ]
  },
  {
   "cell_type": "code",
   "execution_count": 5,
   "metadata": {},
   "outputs": [
    {
     "data": {
      "text/plain": [
       "Index(['encounter_id', 'patient_nbr', 'race', 'gender', 'age', 'weight',\n",
       "       'admission_type_id', 'discharge_disposition_id', 'admission_source_id',\n",
       "       'time_in_hospital', 'payer_code', 'medical_specialty',\n",
       "       'primary_diagnosis_code', 'other_diagnosis_codes', 'number_outpatient',\n",
       "       'number_inpatient', 'number_emergency', 'num_lab_procedures',\n",
       "       'number_diagnoses', 'num_medications', 'num_procedures', 'ndc_code',\n",
       "       'max_glu_serum', 'A1Cresult', 'change', 'readmitted'],\n",
       "      dtype='object')"
      ]
     },
     "execution_count": 5,
     "metadata": {},
     "output_type": "execute_result"
    }
   ],
   "source": [
    "df.columns"
   ]
  },
  {
   "cell_type": "code",
   "execution_count": 6,
   "metadata": {},
   "outputs": [
    {
     "data": {
      "text/plain": [
       "101766"
      ]
     },
     "execution_count": 6,
     "metadata": {},
     "output_type": "execute_result"
    }
   ],
   "source": [
    "df.encounter_id.nunique()"
   ]
  },
  {
   "cell_type": "code",
   "execution_count": 7,
   "metadata": {},
   "outputs": [
    {
     "data": {
      "text/plain": [
       "71518"
      ]
     },
     "execution_count": 7,
     "metadata": {},
     "output_type": "execute_result"
    }
   ],
   "source": [
    "\n",
    "df.patient_nbr.nunique()"
   ]
  },
  {
   "cell_type": "code",
   "execution_count": 8,
   "metadata": {},
   "outputs": [
    {
     "data": {
      "text/plain": [
       "143424"
      ]
     },
     "execution_count": 8,
     "metadata": {},
     "output_type": "execute_result"
    }
   ],
   "source": [
    "df.shape[0]"
   ]
  },
  {
   "cell_type": "markdown",
   "metadata": {},
   "source": [
    "## Determine Level of Dataset (Line or Encounter)"
   ]
  },
  {
   "cell_type": "markdown",
   "metadata": {},
   "source": [
    "**Question 1**: Based off of analysis of the data, what level is this dataset? Is it at the line or encounter level? Are there any key fields besides the encounter_id and patient_nbr fields that we should use to aggregate on? Knowing this information will help inform us what level of aggregation is necessary for future steps and is a step that is often overlooked. "
   ]
  },
  {
   "cell_type": "markdown",
   "metadata": {},
   "source": [
    "Student Response:??As shown above, encounter_id count is not same as total rows. So, given data is at line level. We can aggregate data on primary_diagnosis_code as it indicates the patients dieases code."
   ]
  },
  {
   "cell_type": "markdown",
   "metadata": {},
   "source": [
    "## Analyze Dataset"
   ]
  },
  {
   "cell_type": "markdown",
   "metadata": {},
   "source": [
    "**Question 2**: Utilizing the library of your choice (recommend Pandas and Seaborn or matplotlib though), perform exploratory data analysis on the dataset. In particular be sure to address the following questions:  \n",
    "    - a. Field(s) with high amount of missing/zero values\n",
    "    only ndc_code column has missing values \n",
    "\n",
    "    - b. Based off the frequency histogram for each numerical field, which numerical field(s) has/have a Gaussian(normal) distribution shape?\n",
    "    None off the numerical field has pure normal distribution, but `num_lab_procedures` has some extent of normal distribution which violets at some point.\n",
    "    \n",
    "    - c. Which field(s) have high cardinality and why (HINT: ndc_code is one feature)\n",
    "    other_diagnosis_codes, primary_diagnosis_code and ndc_code has high cardinalities. It has different codes related to dieases identified. So, it has more variation.\n",
    "    \n",
    "    - d. Please describe the demographic distributions in the dataset for the age and gender fields.\n",
    "    From data, it shown that there are slightly more females than male who are hospitalized and it is more affected in age 60-90.\n",
    "    \n"
   ]
  },
  {
   "cell_type": "code",
   "execution_count": 9,
   "metadata": {},
   "outputs": [
    {
     "data": {
      "text/html": [
       "<div>\n",
       "<style scoped>\n",
       "    .dataframe tbody tr th:only-of-type {\n",
       "        vertical-align: middle;\n",
       "    }\n",
       "\n",
       "    .dataframe tbody tr th {\n",
       "        vertical-align: top;\n",
       "    }\n",
       "\n",
       "    .dataframe thead th {\n",
       "        text-align: right;\n",
       "    }\n",
       "</style>\n",
       "<table border=\"1\" class=\"dataframe\">\n",
       "  <thead>\n",
       "    <tr style=\"text-align: right;\">\n",
       "      <th></th>\n",
       "      <th>count</th>\n",
       "      <th>mean</th>\n",
       "      <th>std</th>\n",
       "      <th>min</th>\n",
       "      <th>25%</th>\n",
       "      <th>50%</th>\n",
       "      <th>75%</th>\n",
       "      <th>max</th>\n",
       "    </tr>\n",
       "  </thead>\n",
       "  <tbody>\n",
       "    <tr>\n",
       "      <th>encounter_id</th>\n",
       "      <td>143424.0</td>\n",
       "      <td>1.674290e+08</td>\n",
       "      <td>1.019046e+08</td>\n",
       "      <td>12522.0</td>\n",
       "      <td>88295964.0</td>\n",
       "      <td>154763706.0</td>\n",
       "      <td>232089688.5</td>\n",
       "      <td>443867222.0</td>\n",
       "    </tr>\n",
       "    <tr>\n",
       "      <th>patient_nbr</th>\n",
       "      <td>143424.0</td>\n",
       "      <td>5.493608e+07</td>\n",
       "      <td>3.857840e+07</td>\n",
       "      <td>135.0</td>\n",
       "      <td>23572188.0</td>\n",
       "      <td>46307830.5</td>\n",
       "      <td>88236270.0</td>\n",
       "      <td>189502619.0</td>\n",
       "    </tr>\n",
       "    <tr>\n",
       "      <th>admission_type_id</th>\n",
       "      <td>143424.0</td>\n",
       "      <td>2.027694e+00</td>\n",
       "      <td>1.427585e+00</td>\n",
       "      <td>1.0</td>\n",
       "      <td>1.0</td>\n",
       "      <td>1.0</td>\n",
       "      <td>3.0</td>\n",
       "      <td>8.0</td>\n",
       "    </tr>\n",
       "    <tr>\n",
       "      <th>discharge_disposition_id</th>\n",
       "      <td>143424.0</td>\n",
       "      <td>3.655316e+00</td>\n",
       "      <td>5.219279e+00</td>\n",
       "      <td>1.0</td>\n",
       "      <td>1.0</td>\n",
       "      <td>1.0</td>\n",
       "      <td>3.0</td>\n",
       "      <td>28.0</td>\n",
       "    </tr>\n",
       "    <tr>\n",
       "      <th>admission_source_id</th>\n",
       "      <td>143424.0</td>\n",
       "      <td>5.701096e+00</td>\n",
       "      <td>4.064532e+00</td>\n",
       "      <td>1.0</td>\n",
       "      <td>1.0</td>\n",
       "      <td>7.0</td>\n",
       "      <td>7.0</td>\n",
       "      <td>25.0</td>\n",
       "    </tr>\n",
       "    <tr>\n",
       "      <th>time_in_hospital</th>\n",
       "      <td>143424.0</td>\n",
       "      <td>4.490190e+00</td>\n",
       "      <td>2.999667e+00</td>\n",
       "      <td>1.0</td>\n",
       "      <td>2.0</td>\n",
       "      <td>4.0</td>\n",
       "      <td>6.0</td>\n",
       "      <td>14.0</td>\n",
       "    </tr>\n",
       "    <tr>\n",
       "      <th>number_outpatient</th>\n",
       "      <td>143424.0</td>\n",
       "      <td>3.624289e-01</td>\n",
       "      <td>1.249295e+00</td>\n",
       "      <td>0.0</td>\n",
       "      <td>0.0</td>\n",
       "      <td>0.0</td>\n",
       "      <td>0.0</td>\n",
       "      <td>42.0</td>\n",
       "    </tr>\n",
       "    <tr>\n",
       "      <th>number_inpatient</th>\n",
       "      <td>143424.0</td>\n",
       "      <td>6.008548e-01</td>\n",
       "      <td>1.207934e+00</td>\n",
       "      <td>0.0</td>\n",
       "      <td>0.0</td>\n",
       "      <td>0.0</td>\n",
       "      <td>1.0</td>\n",
       "      <td>21.0</td>\n",
       "    </tr>\n",
       "    <tr>\n",
       "      <th>number_emergency</th>\n",
       "      <td>143424.0</td>\n",
       "      <td>1.950859e-01</td>\n",
       "      <td>9.204102e-01</td>\n",
       "      <td>0.0</td>\n",
       "      <td>0.0</td>\n",
       "      <td>0.0</td>\n",
       "      <td>0.0</td>\n",
       "      <td>76.0</td>\n",
       "    </tr>\n",
       "    <tr>\n",
       "      <th>num_lab_procedures</th>\n",
       "      <td>143424.0</td>\n",
       "      <td>4.325575e+01</td>\n",
       "      <td>1.965732e+01</td>\n",
       "      <td>1.0</td>\n",
       "      <td>32.0</td>\n",
       "      <td>44.0</td>\n",
       "      <td>57.0</td>\n",
       "      <td>132.0</td>\n",
       "    </tr>\n",
       "    <tr>\n",
       "      <th>number_diagnoses</th>\n",
       "      <td>143424.0</td>\n",
       "      <td>7.424434e+00</td>\n",
       "      <td>1.924872e+00</td>\n",
       "      <td>1.0</td>\n",
       "      <td>6.0</td>\n",
       "      <td>8.0</td>\n",
       "      <td>9.0</td>\n",
       "      <td>16.0</td>\n",
       "    </tr>\n",
       "    <tr>\n",
       "      <th>num_medications</th>\n",
       "      <td>143424.0</td>\n",
       "      <td>1.677603e+01</td>\n",
       "      <td>8.397130e+00</td>\n",
       "      <td>1.0</td>\n",
       "      <td>11.0</td>\n",
       "      <td>15.0</td>\n",
       "      <td>21.0</td>\n",
       "      <td>81.0</td>\n",
       "    </tr>\n",
       "    <tr>\n",
       "      <th>num_procedures</th>\n",
       "      <td>143424.0</td>\n",
       "      <td>1.349021e+00</td>\n",
       "      <td>1.719104e+00</td>\n",
       "      <td>0.0</td>\n",
       "      <td>0.0</td>\n",
       "      <td>1.0</td>\n",
       "      <td>2.0</td>\n",
       "      <td>6.0</td>\n",
       "    </tr>\n",
       "  </tbody>\n",
       "</table>\n",
       "</div>"
      ],
      "text/plain": [
       "                             count          mean           std      min  \\\n",
       "encounter_id              143424.0  1.674290e+08  1.019046e+08  12522.0   \n",
       "patient_nbr               143424.0  5.493608e+07  3.857840e+07    135.0   \n",
       "admission_type_id         143424.0  2.027694e+00  1.427585e+00      1.0   \n",
       "discharge_disposition_id  143424.0  3.655316e+00  5.219279e+00      1.0   \n",
       "admission_source_id       143424.0  5.701096e+00  4.064532e+00      1.0   \n",
       "time_in_hospital          143424.0  4.490190e+00  2.999667e+00      1.0   \n",
       "number_outpatient         143424.0  3.624289e-01  1.249295e+00      0.0   \n",
       "number_inpatient          143424.0  6.008548e-01  1.207934e+00      0.0   \n",
       "number_emergency          143424.0  1.950859e-01  9.204102e-01      0.0   \n",
       "num_lab_procedures        143424.0  4.325575e+01  1.965732e+01      1.0   \n",
       "number_diagnoses          143424.0  7.424434e+00  1.924872e+00      1.0   \n",
       "num_medications           143424.0  1.677603e+01  8.397130e+00      1.0   \n",
       "num_procedures            143424.0  1.349021e+00  1.719104e+00      0.0   \n",
       "\n",
       "                                 25%          50%          75%          max  \n",
       "encounter_id              88295964.0  154763706.0  232089688.5  443867222.0  \n",
       "patient_nbr               23572188.0   46307830.5   88236270.0  189502619.0  \n",
       "admission_type_id                1.0          1.0          3.0          8.0  \n",
       "discharge_disposition_id         1.0          1.0          3.0         28.0  \n",
       "admission_source_id              1.0          7.0          7.0         25.0  \n",
       "time_in_hospital                 2.0          4.0          6.0         14.0  \n",
       "number_outpatient                0.0          0.0          0.0         42.0  \n",
       "number_inpatient                 0.0          0.0          1.0         21.0  \n",
       "number_emergency                 0.0          0.0          0.0         76.0  \n",
       "num_lab_procedures              32.0         44.0         57.0        132.0  \n",
       "number_diagnoses                 6.0          8.0          9.0         16.0  \n",
       "num_medications                 11.0         15.0         21.0         81.0  \n",
       "num_procedures                   0.0          1.0          2.0          6.0  "
      ]
     },
     "execution_count": 9,
     "metadata": {},
     "output_type": "execute_result"
    }
   ],
   "source": [
    "\n",
    "df.describe().transpose()"
   ]
  },
  {
   "cell_type": "code",
   "execution_count": 10,
   "metadata": {},
   "outputs": [
    {
     "data": {
      "text/plain": [
       "encounter_id                143424\n",
       "patient_nbr                 143424\n",
       "race                        143424\n",
       "gender                      143424\n",
       "age                         143424\n",
       "weight                      143424\n",
       "admission_type_id           143424\n",
       "discharge_disposition_id    143424\n",
       "admission_source_id         143424\n",
       "time_in_hospital            143424\n",
       "payer_code                  143424\n",
       "medical_specialty           143424\n",
       "primary_diagnosis_code      143424\n",
       "other_diagnosis_codes       143424\n",
       "number_outpatient           143424\n",
       "number_inpatient            143424\n",
       "number_emergency            143424\n",
       "num_lab_procedures          143424\n",
       "number_diagnoses            143424\n",
       "num_medications             143424\n",
       "num_procedures              143424\n",
       "ndc_code                    119962\n",
       "max_glu_serum               143424\n",
       "A1Cresult                   143424\n",
       "change                      143424\n",
       "readmitted                  143424\n",
       "dtype: int64"
      ]
     },
     "execution_count": 10,
     "metadata": {},
     "output_type": "execute_result"
    }
   ],
   "source": [
    "df.count()"
   ]
  },
  {
   "cell_type": "code",
   "execution_count": 11,
   "metadata": {},
   "outputs": [
    {
     "data": {
      "text/plain": [
       "['encounter_id',\n",
       " 'patient_nbr',\n",
       " 'admission_type_id',\n",
       " 'discharge_disposition_id',\n",
       " 'admission_source_id',\n",
       " 'time_in_hospital',\n",
       " 'number_outpatient',\n",
       " 'number_inpatient',\n",
       " 'number_emergency',\n",
       " 'num_lab_procedures',\n",
       " 'number_diagnoses',\n",
       " 'num_medications',\n",
       " 'num_procedures']"
      ]
     },
     "execution_count": 11,
     "metadata": {},
     "output_type": "execute_result"
    }
   ],
   "source": [
    "numeric_field = [c for c in df.columns if df[c].dtype == \"int64\"]\n",
    "numeric_field"
   ]
  },
  {
   "cell_type": "code",
   "execution_count": 12,
   "metadata": {},
   "outputs": [
    {
     "data": {
      "image/png": "[encoded data removed]",
      "text/plain": [
       "<Figure size 432x288 with 1 Axes>"
      ]
     },
     "metadata": {
      "needs_background": "light"
     },
     "output_type": "display_data"
    },
    {
     "data": {
      "image/png": "[encoded data removed]",
      "text/plain": [
       "<Figure size 432x288 with 1 Axes>"
      ]
     },
     "metadata": {
      "needs_background": "light"
     },
     "output_type": "display_data"
    },
    {
     "data": {
      "image/png": "[encoded data removed]",
      "text/plain": [
       "<Figure size 432x288 with 1 Axes>"
      ]
     },
     "metadata": {
      "needs_background": "light"
     },
     "output_type": "display_data"
    },
    {
     "data": {
      "image/png": "[encoded data removed]",
      "text/plain": [
       "<Figure size 432x288 with 1 Axes>"
      ]
     },
     "metadata": {
      "needs_background": "light"
     },
     "output_type": "display_data"
    },
    {
     "data": {
      "image/png": "[encoded data removed]",
      "text/plain": [
       "<Figure size 432x288 with 1 Axes>"
      ]
     },
     "metadata": {
      "needs_background": "light"
     },
     "output_type": "display_data"
    },
    {
     "data": {
      "image/png": "[encoded data removed]",
      "text/plain": [
       "<Figure size 432x288 with 1 Axes>"
      ]
     },
     "metadata": {
      "needs_background": "light"
     },
     "output_type": "display_data"
    },
    {
     "data": {
      "image/png": "[encoded data removed]",
      "text/plain": [
       "<Figure size 432x288 with 1 Axes>"
      ]
     },
     "metadata": {
      "needs_background": "light"
     },
     "output_type": "display_data"
    },
    {
     "data": {
      "image/png": "[encoded data removed]",
      "text/plain": [
       "<Figure size 432x288 with 1 Axes>"
      ]
     },
     "metadata": {
      "needs_background": "light"
     },
     "output_type": "display_data"
    },
    {
     "data": {
      "image/png": "[encoded data removed]",
      "text/plain": [
       "<Figure size 432x288 with 1 Axes>"
      ]
     },
     "metadata": {
      "needs_background": "light"
     },
     "output_type": "display_data"
    },
    {
     "data": {
      "image/png": "[encoded data removed]",
      "text/plain": [
       "<Figure size 432x288 with 1 Axes>"
      ]
     },
     "metadata": {
      "needs_background": "light"
     },
     "output_type": "display_data"
    },
    {
     "data": {
      "image/png": "[encoded data removed]",
      "text/plain": [
       "<Figure size 432x288 with 1 Axes>"
      ]
     },
     "metadata": {
      "needs_background": "light"
     },
     "output_type": "display_data"
    },
    {
     "data": {
      "image/png": "[encoded data removed]",
      "text/plain": [
       "<Figure size 432x288 with 1 Axes>"
      ]
     },
     "metadata": {
      "needs_background": "light"
     },
     "output_type": "display_data"
    },
    {
     "data": {
      "image/png": "[encoded data removed]",
      "text/plain": [
       "<Figure size 432x288 with 1 Axes>"
      ]
     },
     "metadata": {
      "needs_background": "light"
     },
     "output_type": "display_data"
    }
   ],
   "source": [
    "\n",
    "for c in numeric_field:\n",
    "    sns.distplot(df[c], kde=False)\n",
    "    plt.title(c)\n",
    "    plt.show()"
   ]
  },
  {
   "cell_type": "code",
   "execution_count": 13,
   "metadata": {},
   "outputs": [
    {
     "data": {
      "text/plain": [
       "<matplotlib.axes._subplots.AxesSubplot at 0x7f0b18f3f550>"
      ]
     },
     "execution_count": 13,
     "metadata": {},
     "output_type": "execute_result"
    },
    {
     "data": {
      "image/png": "[encoded data removed]",
      "text/plain": [
       "<Figure size 432x288 with 1 Axes>"
      ]
     },
     "metadata": {
      "needs_background": "light"
     },
     "output_type": "display_data"
    }
   ],
   "source": [
    "df.age.value_counts().plot(kind='bar')"
   ]
  },
  {
   "cell_type": "code",
   "execution_count": 14,
   "metadata": {},
   "outputs": [
    {
     "data": {
      "text/plain": [
       "array(['Female', 'Male', 'Unknown/Invalid'], dtype=object)"
      ]
     },
     "execution_count": 14,
     "metadata": {},
     "output_type": "execute_result"
    }
   ],
   "source": [
    "\n",
    "df.gender.unique()"
   ]
  },
  {
   "cell_type": "code",
   "execution_count": 15,
   "metadata": {},
   "outputs": [
    {
     "data": {
      "text/plain": [
       "<matplotlib.axes._subplots.AxesSubplot at 0x7f0b19107750>"
      ]
     },
     "execution_count": 15,
     "metadata": {},
     "output_type": "execute_result"
    },
    {
     "data": {
      "image/png": "[encoded data removed]",
      "text/plain": [
       "<Figure size 432x288 with 1 Axes>"
      ]
     },
     "metadata": {
      "needs_background": "light"
     },
     "output_type": "display_data"
    }
   ],
   "source": [
    "df.gender.value_counts().plot(kind=\"bar\")"
   ]
  },
  {
   "cell_type": "code",
   "execution_count": 16,
   "metadata": {},
   "outputs": [
    {
     "data": {
      "text/html": [
       "<div>\n",
       "<style scoped>\n",
       "    .dataframe tbody tr th:only-of-type {\n",
       "        vertical-align: middle;\n",
       "    }\n",
       "\n",
       "    .dataframe tbody tr th {\n",
       "        vertical-align: top;\n",
       "    }\n",
       "\n",
       "    .dataframe thead th {\n",
       "        text-align: right;\n",
       "    }\n",
       "</style>\n",
       "<table border=\"1\" class=\"dataframe\">\n",
       "  <thead>\n",
       "    <tr style=\"text-align: right;\">\n",
       "      <th></th>\n",
       "      <th>cardinality</th>\n",
       "    </tr>\n",
       "  </thead>\n",
       "  <tbody>\n",
       "    <tr>\n",
       "      <th>encounter_id</th>\n",
       "      <td>101766</td>\n",
       "    </tr>\n",
       "    <tr>\n",
       "      <th>patient_nbr</th>\n",
       "      <td>71518</td>\n",
       "    </tr>\n",
       "    <tr>\n",
       "      <th>race</th>\n",
       "      <td>6</td>\n",
       "    </tr>\n",
       "    <tr>\n",
       "      <th>gender</th>\n",
       "      <td>3</td>\n",
       "    </tr>\n",
       "    <tr>\n",
       "      <th>age</th>\n",
       "      <td>10</td>\n",
       "    </tr>\n",
       "    <tr>\n",
       "      <th>weight</th>\n",
       "      <td>10</td>\n",
       "    </tr>\n",
       "    <tr>\n",
       "      <th>admission_type_id</th>\n",
       "      <td>8</td>\n",
       "    </tr>\n",
       "    <tr>\n",
       "      <th>discharge_disposition_id</th>\n",
       "      <td>26</td>\n",
       "    </tr>\n",
       "    <tr>\n",
       "      <th>admission_source_id</th>\n",
       "      <td>17</td>\n",
       "    </tr>\n",
       "    <tr>\n",
       "      <th>time_in_hospital</th>\n",
       "      <td>14</td>\n",
       "    </tr>\n",
       "    <tr>\n",
       "      <th>payer_code</th>\n",
       "      <td>18</td>\n",
       "    </tr>\n",
       "    <tr>\n",
       "      <th>medical_specialty</th>\n",
       "      <td>73</td>\n",
       "    </tr>\n",
       "    <tr>\n",
       "      <th>primary_diagnosis_code</th>\n",
       "      <td>717</td>\n",
       "    </tr>\n",
       "    <tr>\n",
       "      <th>other_diagnosis_codes</th>\n",
       "      <td>19374</td>\n",
       "    </tr>\n",
       "    <tr>\n",
       "      <th>number_outpatient</th>\n",
       "      <td>39</td>\n",
       "    </tr>\n",
       "    <tr>\n",
       "      <th>number_inpatient</th>\n",
       "      <td>21</td>\n",
       "    </tr>\n",
       "    <tr>\n",
       "      <th>number_emergency</th>\n",
       "      <td>33</td>\n",
       "    </tr>\n",
       "    <tr>\n",
       "      <th>num_lab_procedures</th>\n",
       "      <td>118</td>\n",
       "    </tr>\n",
       "    <tr>\n",
       "      <th>number_diagnoses</th>\n",
       "      <td>16</td>\n",
       "    </tr>\n",
       "    <tr>\n",
       "      <th>num_medications</th>\n",
       "      <td>75</td>\n",
       "    </tr>\n",
       "    <tr>\n",
       "      <th>num_procedures</th>\n",
       "      <td>7</td>\n",
       "    </tr>\n",
       "    <tr>\n",
       "      <th>ndc_code</th>\n",
       "      <td>251</td>\n",
       "    </tr>\n",
       "    <tr>\n",
       "      <th>max_glu_serum</th>\n",
       "      <td>4</td>\n",
       "    </tr>\n",
       "    <tr>\n",
       "      <th>A1Cresult</th>\n",
       "      <td>4</td>\n",
       "    </tr>\n",
       "    <tr>\n",
       "      <th>change</th>\n",
       "      <td>2</td>\n",
       "    </tr>\n",
       "    <tr>\n",
       "      <th>readmitted</th>\n",
       "      <td>3</td>\n",
       "    </tr>\n",
       "  </tbody>\n",
       "</table>\n",
       "</div>"
      ],
      "text/plain": [
       "                          cardinality\n",
       "encounter_id                   101766\n",
       "patient_nbr                     71518\n",
       "race                                6\n",
       "gender                              3\n",
       "age                                10\n",
       "weight                             10\n",
       "admission_type_id                   8\n",
       "discharge_disposition_id           26\n",
       "admission_source_id                17\n",
       "time_in_hospital                   14\n",
       "payer_code                         18\n",
       "medical_specialty                  73\n",
       "primary_diagnosis_code            717\n",
       "other_diagnosis_codes           19374\n",
       "number_outpatient                  39\n",
       "number_inpatient                   21\n",
       "number_emergency                   33\n",
       "num_lab_procedures                118\n",
       "number_diagnoses                   16\n",
       "num_medications                    75\n",
       "num_procedures                      7\n",
       "ndc_code                          251\n",
       "max_glu_serum                       4\n",
       "A1Cresult                           4\n",
       "change                              2\n",
       "readmitted                          3"
      ]
     },
     "execution_count": 16,
     "metadata": {},
     "output_type": "execute_result"
    }
   ],
   "source": [
    "\n",
    "pd.DataFrame({'cardinality': df.nunique() } )"
   ]
  },
  {
   "cell_type": "markdown",
   "metadata": {},
   "source": [
    "**OPTIONAL**: Use the Tensorflow Data Validation and Analysis library to complete. \n",
    "- The Tensorflow Data Validation and Analysis library(https://www.tensorflow.org/tfx/data_validation/get_started) is a useful tool for analyzing and summarizing dataset statistics. It is especially useful because it can scale to large datasets that do not fit into memory. \n",
    "- Note that there are some bugs that are still being resolved with Chrome v80 and we have moved away from using this for the project. "
   ]
  },
  {
   "cell_type": "markdown",
   "metadata": {},
   "source": [
    "**Student Response**: ??"
   ]
  },
  {
   "cell_type": "code",
   "execution_count": 17,
   "metadata": {},
   "outputs": [],
   "source": [
    "######NOTE: The visualization will only display in Chrome browser. ########\n",
    "#full_data_stats = tfdv.generate_statistics_from_csv(data_location='./data/final_project_dataset.csv') \n",
    "#tfdv.visualize_statistics(full_data_stats)"
   ]
  },
  {
   "cell_type": "markdown",
   "metadata": {},
   "source": [
    "## Reduce Dimensionality of the NDC Code Feature"
   ]
  },
  {
   "cell_type": "markdown",
   "metadata": {},
   "source": [
    "**Question 3**: NDC codes are a common format to represent the wide variety of drugs that are prescribed for patient care in the United States. The challenge is that there are many codes that map to the same or similar drug. You are provided with the ndc drug lookup file https://github.com/udacity/nd320-c1-emr-data-starter/blob/master/project/data_schema_references/ndc_lookup_table.csv derived from the National Drug Codes List site(https://ndclist.com/). Please use this file to come up with a way to reduce the dimensionality of this field and create a new field in the dataset called \"generic_drug_name\" in the output dataframe. "
   ]
  },
  {
   "cell_type": "code",
   "execution_count": 18,
   "metadata": {},
   "outputs": [],
   "source": [
    "#NDC code lookup file\n",
    "ndc_code_path = \"./medication_lookup_tables/final_ndc_lookup_table\"\n",
    "ndc_code_df = pd.read_csv(ndc_code_path)"
   ]
  },
  {
   "cell_type": "code",
   "execution_count": 19,
   "metadata": {},
   "outputs": [],
   "source": [
    "from student_utils import reduce_dimension_ndc"
   ]
  },
  {
   "cell_type": "code",
   "execution_count": 20,
   "metadata": {},
   "outputs": [
    {
     "data": {
      "text/plain": [
       "0                NaN\n",
       "1         68071-1701\n",
       "2          0378-1110\n",
       "3         68071-1701\n",
       "4          0049-4110\n",
       "             ...    \n",
       "143419     47918-902\n",
       "143420     0049-4110\n",
       "143421     0781-5421\n",
       "143422     47918-902\n",
       "143423           NaN\n",
       "Name: ndc_code, Length: 143424, dtype: object"
      ]
     },
     "execution_count": 20,
     "metadata": {},
     "output_type": "execute_result"
    }
   ],
   "source": [
    "df.ndc_code"
   ]
  },
  {
   "cell_type": "code",
   "execution_count": 21,
   "metadata": {},
   "outputs": [
    {
     "data": {
      "text/html": [
       "<div>\n",
       "<style scoped>\n",
       "    .dataframe tbody tr th:only-of-type {\n",
       "        vertical-align: middle;\n",
       "    }\n",
       "\n",
       "    .dataframe tbody tr th {\n",
       "        vertical-align: top;\n",
       "    }\n",
       "\n",
       "    .dataframe thead th {\n",
       "        text-align: right;\n",
       "    }\n",
       "</style>\n",
       "<table border=\"1\" class=\"dataframe\">\n",
       "  <thead>\n",
       "    <tr style=\"text-align: right;\">\n",
       "      <th></th>\n",
       "      <th>NDC_Code</th>\n",
       "      <th>Proprietary Name</th>\n",
       "      <th>Non-proprietary Name</th>\n",
       "      <th>Dosage Form</th>\n",
       "      <th>Route Name</th>\n",
       "      <th>Company Name</th>\n",
       "      <th>Product Type</th>\n",
       "    </tr>\n",
       "  </thead>\n",
       "  <tbody>\n",
       "    <tr>\n",
       "      <th>0</th>\n",
       "      <td>0087-6060</td>\n",
       "      <td>Glucophage</td>\n",
       "      <td>Metformin Hydrochloride</td>\n",
       "      <td>Tablet, Film Coated</td>\n",
       "      <td>Oral</td>\n",
       "      <td>Bristol-myers Squibb Company</td>\n",
       "      <td>Human Prescription Drug</td>\n",
       "    </tr>\n",
       "    <tr>\n",
       "      <th>1</th>\n",
       "      <td>0087-6063</td>\n",
       "      <td>Glucophage XR</td>\n",
       "      <td>Metformin Hydrochloride</td>\n",
       "      <td>Tablet, Extended Release</td>\n",
       "      <td>Oral</td>\n",
       "      <td>Bristol-myers Squibb Company</td>\n",
       "      <td>Human Prescription Drug</td>\n",
       "    </tr>\n",
       "    <tr>\n",
       "      <th>2</th>\n",
       "      <td>0087-6064</td>\n",
       "      <td>Glucophage XR</td>\n",
       "      <td>Metformin Hydrochloride</td>\n",
       "      <td>Tablet, Extended Release</td>\n",
       "      <td>Oral</td>\n",
       "      <td>Bristol-myers Squibb Company</td>\n",
       "      <td>Human Prescription Drug</td>\n",
       "    </tr>\n",
       "    <tr>\n",
       "      <th>3</th>\n",
       "      <td>0087-6070</td>\n",
       "      <td>Glucophage</td>\n",
       "      <td>Metformin Hydrochloride</td>\n",
       "      <td>Tablet, Film Coated</td>\n",
       "      <td>Oral</td>\n",
       "      <td>Bristol-myers Squibb Company</td>\n",
       "      <td>Human Prescription Drug</td>\n",
       "    </tr>\n",
       "    <tr>\n",
       "      <th>4</th>\n",
       "      <td>0087-6071</td>\n",
       "      <td>Glucophage</td>\n",
       "      <td>Metformin Hydrochloride</td>\n",
       "      <td>Tablet, Film Coated</td>\n",
       "      <td>Oral</td>\n",
       "      <td>Bristol-myers Squibb Company</td>\n",
       "      <td>Human Prescription Drug</td>\n",
       "    </tr>\n",
       "  </tbody>\n",
       "</table>\n",
       "</div>"
      ],
      "text/plain": [
       "    NDC_Code Proprietary Name     Non-proprietary Name  \\\n",
       "0  0087-6060       Glucophage  Metformin Hydrochloride   \n",
       "1  0087-6063    Glucophage XR  Metformin Hydrochloride   \n",
       "2  0087-6064    Glucophage XR  Metformin Hydrochloride   \n",
       "3  0087-6070       Glucophage  Metformin Hydrochloride   \n",
       "4  0087-6071       Glucophage  Metformin Hydrochloride   \n",
       "\n",
       "                Dosage Form Route Name                  Company Name  \\\n",
       "0       Tablet, Film Coated       Oral  Bristol-myers Squibb Company   \n",
       "1  Tablet, Extended Release       Oral  Bristol-myers Squibb Company   \n",
       "2  Tablet, Extended Release       Oral  Bristol-myers Squibb Company   \n",
       "3       Tablet, Film Coated       Oral  Bristol-myers Squibb Company   \n",
       "4       Tablet, Film Coated       Oral  Bristol-myers Squibb Company   \n",
       "\n",
       "              Product Type  \n",
       "0  Human Prescription Drug  \n",
       "1  Human Prescription Drug  \n",
       "2  Human Prescription Drug  \n",
       "3  Human Prescription Drug  \n",
       "4  Human Prescription Drug  "
      ]
     },
     "execution_count": 21,
     "metadata": {},
     "output_type": "execute_result"
    }
   ],
   "source": [
    "\n",
    "ndc_code_df.head()"
   ]
  },
  {
   "cell_type": "code",
   "execution_count": 22,
   "metadata": {},
   "outputs": [
    {
     "data": {
      "text/html": [
       "<div>\n",
       "<style scoped>\n",
       "    .dataframe tbody tr th:only-of-type {\n",
       "        vertical-align: middle;\n",
       "    }\n",
       "\n",
       "    .dataframe tbody tr th {\n",
       "        vertical-align: top;\n",
       "    }\n",
       "\n",
       "    .dataframe thead th {\n",
       "        text-align: right;\n",
       "    }\n",
       "</style>\n",
       "<table border=\"1\" class=\"dataframe\">\n",
       "  <thead>\n",
       "    <tr style=\"text-align: right;\">\n",
       "      <th></th>\n",
       "      <th>NDC_Code</th>\n",
       "      <th>Proprietary Name</th>\n",
       "      <th>Non-proprietary Name</th>\n",
       "      <th>Dosage Form</th>\n",
       "      <th>Route Name</th>\n",
       "      <th>Company Name</th>\n",
       "      <th>Product Type</th>\n",
       "    </tr>\n",
       "  </thead>\n",
       "  <tbody>\n",
       "    <tr>\n",
       "      <th>0</th>\n",
       "      <td>0087-6060</td>\n",
       "      <td>Glucophage</td>\n",
       "      <td>Metformin Hydrochloride</td>\n",
       "      <td>Tablet, Film Coated</td>\n",
       "      <td>Oral</td>\n",
       "      <td>Bristol-myers Squibb Company</td>\n",
       "      <td>Human Prescription Drug</td>\n",
       "    </tr>\n",
       "    <tr>\n",
       "      <th>1</th>\n",
       "      <td>0087-6063</td>\n",
       "      <td>Glucophage XR</td>\n",
       "      <td>Metformin Hydrochloride</td>\n",
       "      <td>Tablet, Extended Release</td>\n",
       "      <td>Oral</td>\n",
       "      <td>Bristol-myers Squibb Company</td>\n",
       "      <td>Human Prescription Drug</td>\n",
       "    </tr>\n",
       "    <tr>\n",
       "      <th>2</th>\n",
       "      <td>0087-6064</td>\n",
       "      <td>Glucophage XR</td>\n",
       "      <td>Metformin Hydrochloride</td>\n",
       "      <td>Tablet, Extended Release</td>\n",
       "      <td>Oral</td>\n",
       "      <td>Bristol-myers Squibb Company</td>\n",
       "      <td>Human Prescription Drug</td>\n",
       "    </tr>\n",
       "    <tr>\n",
       "      <th>3</th>\n",
       "      <td>0087-6070</td>\n",
       "      <td>Glucophage</td>\n",
       "      <td>Metformin Hydrochloride</td>\n",
       "      <td>Tablet, Film Coated</td>\n",
       "      <td>Oral</td>\n",
       "      <td>Bristol-myers Squibb Company</td>\n",
       "      <td>Human Prescription Drug</td>\n",
       "    </tr>\n",
       "    <tr>\n",
       "      <th>4</th>\n",
       "      <td>0087-6071</td>\n",
       "      <td>Glucophage</td>\n",
       "      <td>Metformin Hydrochloride</td>\n",
       "      <td>Tablet, Film Coated</td>\n",
       "      <td>Oral</td>\n",
       "      <td>Bristol-myers Squibb Company</td>\n",
       "      <td>Human Prescription Drug</td>\n",
       "    </tr>\n",
       "    <tr>\n",
       "      <th>...</th>\n",
       "      <td>...</td>\n",
       "      <td>...</td>\n",
       "      <td>...</td>\n",
       "      <td>...</td>\n",
       "      <td>...</td>\n",
       "      <td>...</td>\n",
       "      <td>...</td>\n",
       "    </tr>\n",
       "    <tr>\n",
       "      <th>264</th>\n",
       "      <td>0781-5635</td>\n",
       "      <td>Pioglitazone Hydrochloride And Glimepiride</td>\n",
       "      <td>Pioglitazone Hydrochloride And Glimepiride</td>\n",
       "      <td>Tablet</td>\n",
       "      <td>Oral</td>\n",
       "      <td>Sandoz Inc</td>\n",
       "      <td>Human Prescription Drug</td>\n",
       "    </tr>\n",
       "    <tr>\n",
       "      <th>265</th>\n",
       "      <td>64764-302</td>\n",
       "      <td>Duetact</td>\n",
       "      <td>Pioglitazone And Glimepiride</td>\n",
       "      <td>Tablet</td>\n",
       "      <td>Oral</td>\n",
       "      <td>Takeda Pharmaceuticals America, Inc.</td>\n",
       "      <td>Human Prescription Drug</td>\n",
       "    </tr>\n",
       "    <tr>\n",
       "      <th>266</th>\n",
       "      <td>64764-304</td>\n",
       "      <td>Duetact</td>\n",
       "      <td>Pioglitazone And Glimepiride</td>\n",
       "      <td>Tablet</td>\n",
       "      <td>Oral</td>\n",
       "      <td>Takeda Pharmaceuticals America, Inc.</td>\n",
       "      <td>Human Prescription Drug</td>\n",
       "    </tr>\n",
       "    <tr>\n",
       "      <th>267</th>\n",
       "      <td>66993-821</td>\n",
       "      <td>Pioglitazone And Glimepiride</td>\n",
       "      <td>Pioglitazone And Glimepiride</td>\n",
       "      <td>Tablet</td>\n",
       "      <td>Oral</td>\n",
       "      <td>Prasco Laboratories</td>\n",
       "      <td>Human Prescription Drug</td>\n",
       "    </tr>\n",
       "    <tr>\n",
       "      <th>268</th>\n",
       "      <td>66993-822</td>\n",
       "      <td>Pioglitazone And Glimepiride</td>\n",
       "      <td>Pioglitazone And Glimepiride</td>\n",
       "      <td>Tablet</td>\n",
       "      <td>Oral</td>\n",
       "      <td>Prasco Laboratories</td>\n",
       "      <td>Human Prescription Drug</td>\n",
       "    </tr>\n",
       "  </tbody>\n",
       "</table>\n",
       "<p>269 rows × 7 columns</p>\n",
       "</div>"
      ],
      "text/plain": [
       "      NDC_Code                            Proprietary Name  \\\n",
       "0    0087-6060                                  Glucophage   \n",
       "1    0087-6063                               Glucophage XR   \n",
       "2    0087-6064                               Glucophage XR   \n",
       "3    0087-6070                                  Glucophage   \n",
       "4    0087-6071                                  Glucophage   \n",
       "..         ...                                         ...   \n",
       "264  0781-5635  Pioglitazone Hydrochloride And Glimepiride   \n",
       "265  64764-302                                     Duetact   \n",
       "266  64764-304                                     Duetact   \n",
       "267  66993-821                Pioglitazone And Glimepiride   \n",
       "268  66993-822                Pioglitazone And Glimepiride   \n",
       "\n",
       "                           Non-proprietary Name               Dosage Form  \\\n",
       "0                       Metformin Hydrochloride       Tablet, Film Coated   \n",
       "1                       Metformin Hydrochloride  Tablet, Extended Release   \n",
       "2                       Metformin Hydrochloride  Tablet, Extended Release   \n",
       "3                       Metformin Hydrochloride       Tablet, Film Coated   \n",
       "4                       Metformin Hydrochloride       Tablet, Film Coated   \n",
       "..                                          ...                       ...   \n",
       "264  Pioglitazone Hydrochloride And Glimepiride                    Tablet   \n",
       "265                Pioglitazone And Glimepiride                    Tablet   \n",
       "266                Pioglitazone And Glimepiride                    Tablet   \n",
       "267                Pioglitazone And Glimepiride                    Tablet   \n",
       "268                Pioglitazone And Glimepiride                    Tablet   \n",
       "\n",
       "    Route Name                          Company Name             Product Type  \n",
       "0         Oral          Bristol-myers Squibb Company  Human Prescription Drug  \n",
       "1         Oral          Bristol-myers Squibb Company  Human Prescription Drug  \n",
       "2         Oral          Bristol-myers Squibb Company  Human Prescription Drug  \n",
       "3         Oral          Bristol-myers Squibb Company  Human Prescription Drug  \n",
       "4         Oral          Bristol-myers Squibb Company  Human Prescription Drug  \n",
       "..         ...                                   ...                      ...  \n",
       "264       Oral                            Sandoz Inc  Human Prescription Drug  \n",
       "265       Oral  Takeda Pharmaceuticals America, Inc.  Human Prescription Drug  \n",
       "266       Oral  Takeda Pharmaceuticals America, Inc.  Human Prescription Drug  \n",
       "267       Oral                   Prasco Laboratories  Human Prescription Drug  \n",
       "268       Oral                   Prasco Laboratories  Human Prescription Drug  \n",
       "\n",
       "[269 rows x 7 columns]"
      ]
     },
     "metadata": {},
     "output_type": "display_data"
    }
   ],
   "source": [
    "display(ndc_code_df)"
   ]
  },
  {
   "cell_type": "code",
   "execution_count": 23,
   "metadata": {},
   "outputs": [
    {
     "data": {
      "text/plain": [
       "Index(['encounter_id', 'patient_nbr', 'race', 'gender', 'age', 'weight',\n",
       "       'admission_type_id', 'discharge_disposition_id', 'admission_source_id',\n",
       "       'time_in_hospital', 'payer_code', 'medical_specialty',\n",
       "       'primary_diagnosis_code', 'other_diagnosis_codes', 'number_outpatient',\n",
       "       'number_inpatient', 'number_emergency', 'num_lab_procedures',\n",
       "       'number_diagnoses', 'num_medications', 'num_procedures', 'ndc_code',\n",
       "       'max_glu_serum', 'A1Cresult', 'change', 'readmitted'],\n",
       "      dtype='object')"
      ]
     },
     "execution_count": 23,
     "metadata": {},
     "output_type": "execute_result"
    }
   ],
   "source": [
    "df.columns"
   ]
  },
  {
   "cell_type": "code",
   "execution_count": 24,
   "metadata": {},
   "outputs": [],
   "source": [
    "reduce_dim_df = reduce_dimension_ndc(df, ndc_code_df)"
   ]
  },
  {
   "cell_type": "code",
   "execution_count": 25,
   "metadata": {},
   "outputs": [
    {
     "data": {
      "text/html": [
       "<div>\n",
       "<style scoped>\n",
       "    .dataframe tbody tr th:only-of-type {\n",
       "        vertical-align: middle;\n",
       "    }\n",
       "\n",
       "    .dataframe tbody tr th {\n",
       "        vertical-align: top;\n",
       "    }\n",
       "\n",
       "    .dataframe thead th {\n",
       "        text-align: right;\n",
       "    }\n",
       "</style>\n",
       "<table border=\"1\" class=\"dataframe\">\n",
       "  <thead>\n",
       "    <tr style=\"text-align: right;\">\n",
       "      <th></th>\n",
       "      <th>encounter_id</th>\n",
       "      <th>patient_nbr</th>\n",
       "      <th>race</th>\n",
       "      <th>gender</th>\n",
       "      <th>age</th>\n",
       "      <th>weight</th>\n",
       "      <th>admission_type_id</th>\n",
       "      <th>discharge_disposition_id</th>\n",
       "      <th>admission_source_id</th>\n",
       "      <th>time_in_hospital</th>\n",
       "      <th>payer_code</th>\n",
       "      <th>medical_specialty</th>\n",
       "      <th>primary_diagnosis_code</th>\n",
       "      <th>other_diagnosis_codes</th>\n",
       "      <th>number_outpatient</th>\n",
       "      <th>number_inpatient</th>\n",
       "      <th>number_emergency</th>\n",
       "      <th>num_lab_procedures</th>\n",
       "      <th>number_diagnoses</th>\n",
       "      <th>num_medications</th>\n",
       "      <th>num_procedures</th>\n",
       "      <th>ndc_code</th>\n",
       "      <th>max_glu_serum</th>\n",
       "      <th>A1Cresult</th>\n",
       "      <th>change</th>\n",
       "      <th>readmitted</th>\n",
       "      <th>generic_drug_name</th>\n",
       "    </tr>\n",
       "  </thead>\n",
       "  <tbody>\n",
       "    <tr>\n",
       "      <th>0</th>\n",
       "      <td>149190</td>\n",
       "      <td>55629189</td>\n",
       "      <td>Caucasian</td>\n",
       "      <td>Female</td>\n",
       "      <td>[10-20)</td>\n",
       "      <td>?</td>\n",
       "      <td>1</td>\n",
       "      <td>1</td>\n",
       "      <td>7</td>\n",
       "      <td>3</td>\n",
       "      <td>?</td>\n",
       "      <td>?</td>\n",
       "      <td>276</td>\n",
       "      <td>250.01|255</td>\n",
       "      <td>0</td>\n",
       "      <td>0</td>\n",
       "      <td>0</td>\n",
       "      <td>59</td>\n",
       "      <td>9</td>\n",
       "      <td>18</td>\n",
       "      <td>0</td>\n",
       "      <td>68071-1701</td>\n",
       "      <td>None</td>\n",
       "      <td>None</td>\n",
       "      <td>Ch</td>\n",
       "      <td>&gt;30</td>\n",
       "      <td>Novolin R</td>\n",
       "    </tr>\n",
       "    <tr>\n",
       "      <th>1</th>\n",
       "      <td>500364</td>\n",
       "      <td>82442376</td>\n",
       "      <td>Caucasian</td>\n",
       "      <td>Male</td>\n",
       "      <td>[30-40)</td>\n",
       "      <td>?</td>\n",
       "      <td>1</td>\n",
       "      <td>1</td>\n",
       "      <td>7</td>\n",
       "      <td>2</td>\n",
       "      <td>?</td>\n",
       "      <td>?</td>\n",
       "      <td>8</td>\n",
       "      <td>250.43|403</td>\n",
       "      <td>0</td>\n",
       "      <td>0</td>\n",
       "      <td>0</td>\n",
       "      <td>44</td>\n",
       "      <td>7</td>\n",
       "      <td>16</td>\n",
       "      <td>1</td>\n",
       "      <td>68071-1701</td>\n",
       "      <td>None</td>\n",
       "      <td>None</td>\n",
       "      <td>Ch</td>\n",
       "      <td>NO</td>\n",
       "      <td>Novolin R</td>\n",
       "    </tr>\n",
       "    <tr>\n",
       "      <th>2</th>\n",
       "      <td>16680</td>\n",
       "      <td>42519267</td>\n",
       "      <td>Caucasian</td>\n",
       "      <td>Male</td>\n",
       "      <td>[40-50)</td>\n",
       "      <td>?</td>\n",
       "      <td>1</td>\n",
       "      <td>1</td>\n",
       "      <td>7</td>\n",
       "      <td>1</td>\n",
       "      <td>?</td>\n",
       "      <td>?</td>\n",
       "      <td>197</td>\n",
       "      <td>157|250</td>\n",
       "      <td>0</td>\n",
       "      <td>0</td>\n",
       "      <td>0</td>\n",
       "      <td>51</td>\n",
       "      <td>5</td>\n",
       "      <td>8</td>\n",
       "      <td>0</td>\n",
       "      <td>68071-1701</td>\n",
       "      <td>None</td>\n",
       "      <td>None</td>\n",
       "      <td>Ch</td>\n",
       "      <td>NO</td>\n",
       "      <td>Novolin R</td>\n",
       "    </tr>\n",
       "    <tr>\n",
       "      <th>3</th>\n",
       "      <td>15738</td>\n",
       "      <td>63555939</td>\n",
       "      <td>Caucasian</td>\n",
       "      <td>Female</td>\n",
       "      <td>[90-100)</td>\n",
       "      <td>?</td>\n",
       "      <td>3</td>\n",
       "      <td>3</td>\n",
       "      <td>4</td>\n",
       "      <td>12</td>\n",
       "      <td>?</td>\n",
       "      <td>InternalMedicine</td>\n",
       "      <td>434</td>\n",
       "      <td>198|486</td>\n",
       "      <td>0</td>\n",
       "      <td>0</td>\n",
       "      <td>0</td>\n",
       "      <td>33</td>\n",
       "      <td>8</td>\n",
       "      <td>18</td>\n",
       "      <td>3</td>\n",
       "      <td>68071-1701</td>\n",
       "      <td>None</td>\n",
       "      <td>None</td>\n",
       "      <td>Ch</td>\n",
       "      <td>NO</td>\n",
       "      <td>Novolin R</td>\n",
       "    </tr>\n",
       "    <tr>\n",
       "      <th>4</th>\n",
       "      <td>28236</td>\n",
       "      <td>89869032</td>\n",
       "      <td>AfricanAmerican</td>\n",
       "      <td>Female</td>\n",
       "      <td>[40-50)</td>\n",
       "      <td>?</td>\n",
       "      <td>1</td>\n",
       "      <td>1</td>\n",
       "      <td>7</td>\n",
       "      <td>9</td>\n",
       "      <td>?</td>\n",
       "      <td>?</td>\n",
       "      <td>250.7</td>\n",
       "      <td>403|996</td>\n",
       "      <td>0</td>\n",
       "      <td>0</td>\n",
       "      <td>0</td>\n",
       "      <td>47</td>\n",
       "      <td>9</td>\n",
       "      <td>17</td>\n",
       "      <td>2</td>\n",
       "      <td>68071-1701</td>\n",
       "      <td>None</td>\n",
       "      <td>None</td>\n",
       "      <td>No</td>\n",
       "      <td>&gt;30</td>\n",
       "      <td>Novolin R</td>\n",
       "    </tr>\n",
       "    <tr>\n",
       "      <th>...</th>\n",
       "      <td>...</td>\n",
       "      <td>...</td>\n",
       "      <td>...</td>\n",
       "      <td>...</td>\n",
       "      <td>...</td>\n",
       "      <td>...</td>\n",
       "      <td>...</td>\n",
       "      <td>...</td>\n",
       "      <td>...</td>\n",
       "      <td>...</td>\n",
       "      <td>...</td>\n",
       "      <td>...</td>\n",
       "      <td>...</td>\n",
       "      <td>...</td>\n",
       "      <td>...</td>\n",
       "      <td>...</td>\n",
       "      <td>...</td>\n",
       "      <td>...</td>\n",
       "      <td>...</td>\n",
       "      <td>...</td>\n",
       "      <td>...</td>\n",
       "      <td>...</td>\n",
       "      <td>...</td>\n",
       "      <td>...</td>\n",
       "      <td>...</td>\n",
       "      <td>...</td>\n",
       "      <td>...</td>\n",
       "    </tr>\n",
       "    <tr>\n",
       "      <th>120015</th>\n",
       "      <td>233607492</td>\n",
       "      <td>41369121</td>\n",
       "      <td>Caucasian</td>\n",
       "      <td>Female</td>\n",
       "      <td>[60-70)</td>\n",
       "      <td>?</td>\n",
       "      <td>1</td>\n",
       "      <td>1</td>\n",
       "      <td>7</td>\n",
       "      <td>2</td>\n",
       "      <td>SP</td>\n",
       "      <td>?</td>\n",
       "      <td>250.8</td>\n",
       "      <td>110|786</td>\n",
       "      <td>0</td>\n",
       "      <td>2</td>\n",
       "      <td>0</td>\n",
       "      <td>38</td>\n",
       "      <td>4</td>\n",
       "      <td>7</td>\n",
       "      <td>0</td>\n",
       "      <td>64764-302</td>\n",
       "      <td>None</td>\n",
       "      <td>None</td>\n",
       "      <td>Ch</td>\n",
       "      <td>&gt;30</td>\n",
       "      <td>Duetact</td>\n",
       "    </tr>\n",
       "    <tr>\n",
       "      <th>120016</th>\n",
       "      <td>254292852</td>\n",
       "      <td>100438128</td>\n",
       "      <td>Caucasian</td>\n",
       "      <td>Male</td>\n",
       "      <td>[60-70)</td>\n",
       "      <td>?</td>\n",
       "      <td>2</td>\n",
       "      <td>6</td>\n",
       "      <td>7</td>\n",
       "      <td>7</td>\n",
       "      <td>MC</td>\n",
       "      <td>Emergency/Trauma</td>\n",
       "      <td>38</td>\n",
       "      <td>276|707</td>\n",
       "      <td>1</td>\n",
       "      <td>0</td>\n",
       "      <td>0</td>\n",
       "      <td>76</td>\n",
       "      <td>9</td>\n",
       "      <td>19</td>\n",
       "      <td>2</td>\n",
       "      <td>0781-5635</td>\n",
       "      <td>None</td>\n",
       "      <td>None</td>\n",
       "      <td>Ch</td>\n",
       "      <td>NO</td>\n",
       "      <td>Pioglitazone Hydrochloride And Glimepiride</td>\n",
       "    </tr>\n",
       "    <tr>\n",
       "      <th>120017</th>\n",
       "      <td>254292852</td>\n",
       "      <td>100438128</td>\n",
       "      <td>Caucasian</td>\n",
       "      <td>Male</td>\n",
       "      <td>[60-70)</td>\n",
       "      <td>?</td>\n",
       "      <td>2</td>\n",
       "      <td>6</td>\n",
       "      <td>7</td>\n",
       "      <td>7</td>\n",
       "      <td>MC</td>\n",
       "      <td>Emergency/Trauma</td>\n",
       "      <td>38</td>\n",
       "      <td>276|707</td>\n",
       "      <td>1</td>\n",
       "      <td>0</td>\n",
       "      <td>0</td>\n",
       "      <td>76</td>\n",
       "      <td>9</td>\n",
       "      <td>19</td>\n",
       "      <td>2</td>\n",
       "      <td>0781-5635</td>\n",
       "      <td>None</td>\n",
       "      <td>None</td>\n",
       "      <td>Ch</td>\n",
       "      <td>NO</td>\n",
       "      <td>Pioglitazone Hydrochloride And Glimepiride</td>\n",
       "    </tr>\n",
       "    <tr>\n",
       "      <th>120018</th>\n",
       "      <td>403720562</td>\n",
       "      <td>41348115</td>\n",
       "      <td>Caucasian</td>\n",
       "      <td>Female</td>\n",
       "      <td>[60-70)</td>\n",
       "      <td>?</td>\n",
       "      <td>3</td>\n",
       "      <td>3</td>\n",
       "      <td>1</td>\n",
       "      <td>6</td>\n",
       "      <td>CP</td>\n",
       "      <td>Radiologist</td>\n",
       "      <td>715</td>\n",
       "      <td>250|272</td>\n",
       "      <td>0</td>\n",
       "      <td>0</td>\n",
       "      <td>0</td>\n",
       "      <td>23</td>\n",
       "      <td>4</td>\n",
       "      <td>20</td>\n",
       "      <td>1</td>\n",
       "      <td>33342-177</td>\n",
       "      <td>None</td>\n",
       "      <td>None</td>\n",
       "      <td>Ch</td>\n",
       "      <td>NO</td>\n",
       "      <td>Pioglitazole And Metformin Hydrochloride</td>\n",
       "    </tr>\n",
       "    <tr>\n",
       "      <th>120019</th>\n",
       "      <td>438411776</td>\n",
       "      <td>84752001</td>\n",
       "      <td>Caucasian</td>\n",
       "      <td>Female</td>\n",
       "      <td>[70-80)</td>\n",
       "      <td>?</td>\n",
       "      <td>2</td>\n",
       "      <td>1</td>\n",
       "      <td>1</td>\n",
       "      <td>3</td>\n",
       "      <td>MC</td>\n",
       "      <td>?</td>\n",
       "      <td>428</td>\n",
       "      <td>427|250</td>\n",
       "      <td>1</td>\n",
       "      <td>0</td>\n",
       "      <td>1</td>\n",
       "      <td>11</td>\n",
       "      <td>6</td>\n",
       "      <td>7</td>\n",
       "      <td>0</td>\n",
       "      <td>43063-699</td>\n",
       "      <td>None</td>\n",
       "      <td>None</td>\n",
       "      <td>No</td>\n",
       "      <td>&gt;30</td>\n",
       "      <td>Glimepiride</td>\n",
       "    </tr>\n",
       "  </tbody>\n",
       "</table>\n",
       "<p>120020 rows × 27 columns</p>\n",
       "</div>"
      ],
      "text/plain": [
       "        encounter_id  patient_nbr             race  gender       age weight  \\\n",
       "0             149190     55629189        Caucasian  Female   [10-20)      ?   \n",
       "1             500364     82442376        Caucasian    Male   [30-40)      ?   \n",
       "2              16680     42519267        Caucasian    Male   [40-50)      ?   \n",
       "3              15738     63555939        Caucasian  Female  [90-100)      ?   \n",
       "4              28236     89869032  AfricanAmerican  Female   [40-50)      ?   \n",
       "...              ...          ...              ...     ...       ...    ...   \n",
       "120015     233607492     41369121        Caucasian  Female   [60-70)      ?   \n",
       "120016     254292852    100438128        Caucasian    Male   [60-70)      ?   \n",
       "120017     254292852    100438128        Caucasian    Male   [60-70)      ?   \n",
       "120018     403720562     41348115        Caucasian  Female   [60-70)      ?   \n",
       "120019     438411776     84752001        Caucasian  Female   [70-80)      ?   \n",
       "\n",
       "        admission_type_id  discharge_disposition_id  admission_source_id  \\\n",
       "0                       1                         1                    7   \n",
       "1                       1                         1                    7   \n",
       "2                       1                         1                    7   \n",
       "3                       3                         3                    4   \n",
       "4                       1                         1                    7   \n",
       "...                   ...                       ...                  ...   \n",
       "120015                  1                         1                    7   \n",
       "120016                  2                         6                    7   \n",
       "120017                  2                         6                    7   \n",
       "120018                  3                         3                    1   \n",
       "120019                  2                         1                    1   \n",
       "\n",
       "        time_in_hospital payer_code medical_specialty primary_diagnosis_code  \\\n",
       "0                      3          ?                 ?                    276   \n",
       "1                      2          ?                 ?                      8   \n",
       "2                      1          ?                 ?                    197   \n",
       "3                     12          ?  InternalMedicine                    434   \n",
       "4                      9          ?                 ?                  250.7   \n",
       "...                  ...        ...               ...                    ...   \n",
       "120015                 2         SP                 ?                  250.8   \n",
       "120016                 7         MC  Emergency/Trauma                     38   \n",
       "120017                 7         MC  Emergency/Trauma                     38   \n",
       "120018                 6         CP       Radiologist                    715   \n",
       "120019                 3         MC                 ?                    428   \n",
       "\n",
       "       other_diagnosis_codes  number_outpatient  number_inpatient  \\\n",
       "0                 250.01|255                  0                 0   \n",
       "1                 250.43|403                  0                 0   \n",
       "2                    157|250                  0                 0   \n",
       "3                    198|486                  0                 0   \n",
       "4                    403|996                  0                 0   \n",
       "...                      ...                ...               ...   \n",
       "120015               110|786                  0                 2   \n",
       "120016               276|707                  1                 0   \n",
       "120017               276|707                  1                 0   \n",
       "120018               250|272                  0                 0   \n",
       "120019               427|250                  1                 0   \n",
       "\n",
       "        number_emergency  num_lab_procedures  number_diagnoses  \\\n",
       "0                      0                  59                 9   \n",
       "1                      0                  44                 7   \n",
       "2                      0                  51                 5   \n",
       "3                      0                  33                 8   \n",
       "4                      0                  47                 9   \n",
       "...                  ...                 ...               ...   \n",
       "120015                 0                  38                 4   \n",
       "120016                 0                  76                 9   \n",
       "120017                 0                  76                 9   \n",
       "120018                 0                  23                 4   \n",
       "120019                 1                  11                 6   \n",
       "\n",
       "        num_medications  num_procedures    ndc_code max_glu_serum A1Cresult  \\\n",
       "0                    18               0  68071-1701          None      None   \n",
       "1                    16               1  68071-1701          None      None   \n",
       "2                     8               0  68071-1701          None      None   \n",
       "3                    18               3  68071-1701          None      None   \n",
       "4                    17               2  68071-1701          None      None   \n",
       "...                 ...             ...         ...           ...       ...   \n",
       "120015                7               0   64764-302          None      None   \n",
       "120016               19               2   0781-5635          None      None   \n",
       "120017               19               2   0781-5635          None      None   \n",
       "120018               20               1   33342-177          None      None   \n",
       "120019                7               0   43063-699          None      None   \n",
       "\n",
       "       change readmitted                           generic_drug_name  \n",
       "0          Ch        >30                                   Novolin R  \n",
       "1          Ch         NO                                   Novolin R  \n",
       "2          Ch         NO                                   Novolin R  \n",
       "3          Ch         NO                                   Novolin R  \n",
       "4          No        >30                                   Novolin R  \n",
       "...       ...        ...                                         ...  \n",
       "120015     Ch        >30                                     Duetact  \n",
       "120016     Ch         NO  Pioglitazone Hydrochloride And Glimepiride  \n",
       "120017     Ch         NO  Pioglitazone Hydrochloride And Glimepiride  \n",
       "120018     Ch         NO    Pioglitazole And Metformin Hydrochloride  \n",
       "120019     No        >30                                 Glimepiride  \n",
       "\n",
       "[120020 rows x 27 columns]"
      ]
     },
     "metadata": {},
     "output_type": "display_data"
    }
   ],
   "source": [
    "\n",
    "display(reduce_dim_df)"
   ]
  },
  {
   "cell_type": "code",
   "execution_count": 26,
   "metadata": {},
   "outputs": [
    {
     "data": {
      "text/plain": [
       "Index(['encounter_id', 'patient_nbr', 'race', 'gender', 'age', 'weight',\n",
       "       'admission_type_id', 'discharge_disposition_id', 'admission_source_id',\n",
       "       'time_in_hospital', 'payer_code', 'medical_specialty',\n",
       "       'primary_diagnosis_code', 'other_diagnosis_codes', 'number_outpatient',\n",
       "       'number_inpatient', 'number_emergency', 'num_lab_procedures',\n",
       "       'number_diagnoses', 'num_medications', 'num_procedures', 'ndc_code',\n",
       "       'max_glu_serum', 'A1Cresult', 'change', 'readmitted',\n",
       "       'generic_drug_name'],\n",
       "      dtype='object')"
      ]
     },
     "execution_count": 26,
     "metadata": {},
     "output_type": "execute_result"
    }
   ],
   "source": [
    "reduce_dim_df.columns"
   ]
  },
  {
   "cell_type": "code",
   "execution_count": 27,
   "metadata": {},
   "outputs": [],
   "source": [
    "# Number of unique values should be less for the new output field\n",
    "assert df['ndc_code'].nunique() > reduce_dim_df['generic_drug_name'].nunique()"
   ]
  },
  {
   "cell_type": "markdown",
   "metadata": {},
   "source": [
    "## Select First Encounter for each Patient "
   ]
  },
  {
   "cell_type": "markdown",
   "metadata": {},
   "source": [
    "**Question 4**: In order to simplify the aggregation of data for the model, we will only select the first encounter for each patient in the dataset. This is to reduce the risk of data leakage of future patient encounters and to reduce complexity of the data transformation and modeling steps. We will assume that sorting in numerical order on the encounter_id provides the time horizon for determining which encounters come before and after another."
   ]
  },
  {
   "cell_type": "code",
   "execution_count": 28,
   "metadata": {},
   "outputs": [],
   "source": [
    "from student_utils import select_first_encounter\n",
    "first_encounter_df = select_first_encounter(reduce_dim_df)"
   ]
  },
  {
   "cell_type": "code",
   "execution_count": 29,
   "metadata": {},
   "outputs": [
    {
     "name": "stdout",
     "output_type": "stream",
     "text": [
      "Number of unique patients:56133\n",
      "Number of unique encounters:56133\n",
      "Tests passed!!\n"
     ]
    }
   ],
   "source": [
    "# unique patients in transformed dataset\n",
    "unique_patients = first_encounter_df['patient_nbr'].nunique()\n",
    "print(\"Number of unique patients:{}\".format(unique_patients))\n",
    "\n",
    "# unique encounters in transformed dataset\n",
    "unique_encounters = first_encounter_df['encounter_id'].nunique()\n",
    "print(\"Number of unique encounters:{}\".format(unique_encounters))\n",
    "\n",
    "original_unique_patient_number = reduce_dim_df['patient_nbr'].nunique()\n",
    "# number of unique patients should be equal to the number of unique encounters and patients in the final dataset\n",
    "assert original_unique_patient_number == unique_patients\n",
    "assert original_unique_patient_number == unique_encounters\n",
    "print(\"Tests passed!!\")"
   ]
  },
  {
   "cell_type": "markdown",
   "metadata": {},
   "source": [
    "## Aggregate Dataset to Right Level for Modeling "
   ]
  },
  {
   "cell_type": "markdown",
   "metadata": {},
   "source": [
    "In order to provide a broad scope of the steps and to prevent students from getting stuck with data transformations, we have selected the aggregation columns and provided a function to build the dataset at the appropriate level. The 'aggregate_dataset\" function that you can find in the 'utils.py' file can take the preceding dataframe with the 'generic_drug_name' field and transform the data appropriately for the project. \n",
    "\n",
    "To make it simpler for students, we are creating dummy columns for each unique generic drug name and adding those are input features to the model. There are other options for data representation but this is out of scope for the time constraints of the course."
   ]
  },
  {
   "cell_type": "code",
   "execution_count": 30,
   "metadata": {},
   "outputs": [
    {
     "name": "stderr",
     "output_type": "stream",
     "text": [
      "/home/workspace/starter_code/utils.py:10: FutureWarning: Indexing with multiple keys (implicitly converted to a tuple of keys) will be deprecated, use a list instead.\n",
      "  array_field].apply(lambda x: x[array_field].values.tolist()).reset_index().rename(columns={\n"
     ]
    }
   ],
   "source": [
    "exclusion_list = ['generic_drug_name']\n",
    "grouping_field_list = [c for c in first_encounter_df.columns if c not in exclusion_list]\n",
    "agg_drug_df, ndc_col_list = aggregate_dataset(first_encounter_df, grouping_field_list, 'generic_drug_name')"
   ]
  },
  {
   "cell_type": "code",
   "execution_count": 31,
   "metadata": {},
   "outputs": [],
   "source": [
    "assert len(agg_drug_df) == agg_drug_df['patient_nbr'].nunique() == agg_drug_df['encounter_id'].nunique()"
   ]
  },
  {
   "cell_type": "markdown",
   "metadata": {},
   "source": [
    "## Prepare Fields and Cast Dataset "
   ]
  },
  {
   "cell_type": "markdown",
   "metadata": {},
   "source": [
    "### Feature Selection"
   ]
  },
  {
   "cell_type": "markdown",
   "metadata": {},
   "source": [
    "**Question 5**: After you have aggregated the dataset to the right level, we can do feature selection (we will include the ndc_col_list, dummy column features too). In the block below, please select the categorical and numerical features that you will use for the model, so that we can create a dataset subset. \n",
    "\n",
    "For the payer_code and weight fields, please provide whether you think we should include/exclude the field in our model and give a justification/rationale for this based off of the statistics of the data. Feel free to use visualizations or summary statistics to support your choice.\n",
    "\n",
    "Student response: From cells above, weight field has 139122 missing values. It's fine if we exclude in model training. For payer_code, it also has 54190 missing value and it not much affect on our training process just beacause it will not help to identify time_in_hospital."
   ]
  },
  {
   "cell_type": "code",
   "execution_count": 32,
   "metadata": {},
   "outputs": [
    {
     "data": {
      "text/plain": [
       "['encounter_id',\n",
       " 'patient_nbr',\n",
       " 'admission_type_id',\n",
       " 'discharge_disposition_id',\n",
       " 'admission_source_id',\n",
       " 'time_in_hospital',\n",
       " 'number_outpatient',\n",
       " 'number_inpatient',\n",
       " 'number_emergency',\n",
       " 'num_lab_procedures',\n",
       " 'number_diagnoses',\n",
       " 'num_medications',\n",
       " 'num_procedures']"
      ]
     },
     "execution_count": 32,
     "metadata": {},
     "output_type": "execute_result"
    }
   ],
   "source": [
    "numeric_field"
   ]
  },
  {
   "cell_type": "code",
   "execution_count": 33,
   "metadata": {},
   "outputs": [
    {
     "data": {
      "text/plain": [
       "Index(['race', 'gender', 'age', 'weight', 'payer_code', 'medical_specialty',\n",
       "       'primary_diagnosis_code', 'other_diagnosis_codes', 'ndc_code',\n",
       "       'max_glu_serum', 'A1Cresult', 'change', 'readmitted'],\n",
       "      dtype='object')"
      ]
     },
     "execution_count": 33,
     "metadata": {},
     "output_type": "execute_result"
    }
   ],
   "source": [
    "categorical_field = df.columns.drop(numeric_field)\n",
    "categorical_field"
   ]
  },
  {
   "cell_type": "code",
   "execution_count": 34,
   "metadata": {},
   "outputs": [],
   "source": [
    "'''\n",
    "Please update the list to include the features you think are appropriate for the model \n",
    "and the field that we will be using to train the model. There are three required demographic features for the model \n",
    "and I have inserted a list with them already in the categorical list. \n",
    "These will be required for later steps when analyzing data splits and model biases.\n",
    "'''\n",
    "required_demo_col_list = ['race', 'gender', 'age']\n",
    "\n",
    "student_categorical_col_list = [ \"ndc_code\", \"readmitted\", 'admission_type_id', 'discharge_disposition_id',\n",
    "                                'max_glu_serum', 'admission_source_id', 'A1Cresult', 'primary_diagnosis_code',\n",
    "                                'other_diagnosis_codes', 'change'] + required_demo_col_list + ndc_col_list\n",
    "\n",
    "student_numerical_col_list = [ \"num_procedures\", \"num_medications\", 'number_diagnoses']\n",
    "\n",
    "PREDICTOR_FIELD = 'time_in_hospital'"
   ]
  },
  {
   "cell_type": "code",
   "execution_count": 35,
   "metadata": {},
   "outputs": [],
   "source": [
    "def select_model_features(df, categorical_col_list, numerical_col_list, PREDICTOR_FIELD, grouping_key='patient_nbr'):\n",
    "    selected_col_list = [grouping_key] + [PREDICTOR_FIELD] + categorical_col_list + numerical_col_list   \n",
    "    return agg_drug_df[selected_col_list]\n"
   ]
  },
  {
   "cell_type": "code",
   "execution_count": 36,
   "metadata": {},
   "outputs": [],
   "source": [
    "\n",
    "selected_features_df = select_model_features(agg_drug_df, student_categorical_col_list, student_numerical_col_list,\n",
    "                                            PREDICTOR_FIELD)"
   ]
  },
  {
   "cell_type": "markdown",
   "metadata": {},
   "source": [
    "### Preprocess Dataset - Casting and Imputing  "
   ]
  },
  {
   "cell_type": "markdown",
   "metadata": {},
   "source": [
    "We will cast and impute the dataset before splitting so that we do not have to repeat these steps across the splits in the next step. For imputing, there can be deeper analysis into which features to impute and how to impute but for the sake of time, we are taking a general strategy of imputing zero for only numerical features. \n",
    "\n",
    "OPTIONAL: What are some potential issues with this approach? Can you recommend a better way and also implement it?"
   ]
  },
  {
   "cell_type": "code",
   "execution_count": 37,
   "metadata": {},
   "outputs": [
    {
     "name": "stderr",
     "output_type": "stream",
     "text": [
      "/home/workspace/starter_code/utils.py:29: SettingWithCopyWarning: \n",
      "A value is trying to be set on a copy of a slice from a DataFrame.\n",
      "Try using .loc[row_indexer,col_indexer] = value instead\n",
      "\n",
      "See the caveats in the documentation: https://pandas.pydata.org/pandas-docs/stable/user_guide/indexing.html#returning-a-view-versus-a-copy\n",
      "  df[predictor] = df[predictor].astype(float)\n",
      "/home/workspace/starter_code/utils.py:31: SettingWithCopyWarning: \n",
      "A value is trying to be set on a copy of a slice from a DataFrame.\n",
      "Try using .loc[row_indexer,col_indexer] = value instead\n",
      "\n",
      "See the caveats in the documentation: https://pandas.pydata.org/pandas-docs/stable/user_guide/indexing.html#returning-a-view-versus-a-copy\n",
      "  df[c] = cast_df(df, c, d_type=str)\n",
      "/home/workspace/starter_code/utils.py:33: SettingWithCopyWarning: \n",
      "A value is trying to be set on a copy of a slice from a DataFrame.\n",
      "Try using .loc[row_indexer,col_indexer] = value instead\n",
      "\n",
      "See the caveats in the documentation: https://pandas.pydata.org/pandas-docs/stable/user_guide/indexing.html#returning-a-view-versus-a-copy\n",
      "  df[numerical_column] = impute_df(df, numerical_column, numerical_impute_value)\n"
     ]
    }
   ],
   "source": [
    "processed_df = preprocess_df(selected_features_df, student_categorical_col_list, \n",
    "        student_numerical_col_list, PREDICTOR_FIELD, categorical_impute_value='nan', numerical_impute_value=0)"
   ]
  },
  {
   "cell_type": "markdown",
   "metadata": {},
   "source": [
    "## Split Dataset into Train, Validation, and Test Partitions"
   ]
  },
  {
   "cell_type": "markdown",
   "metadata": {},
   "source": [
    "**Question 6**: In order to prepare the data for being trained and evaluated by a deep learning model, we will split the dataset into three partitions, with the validation partition used for optimizing the model hyperparameters during training. One of the key parts is that we need to be sure that the data does not accidently leak across partitions.\n",
    "\n",
    "Please complete the function below to split the input dataset into three partitions(train, validation, test) with the following requirements.\n",
    "- Approximately 60%/20%/20%  train/validation/test split\n",
    "- Randomly sample different patients into each data partition\n",
    "- **IMPORTANT** Make sure that a patient's data is not in more than one partition, so that we can avoid possible data leakage.\n",
    "- Make sure that the total number of unique patients across the splits is equal to the total number of unique patients in the original dataset\n",
    "- Total number of rows in original dataset = sum of rows across all three dataset partitions"
   ]
  },
  {
   "cell_type": "code",
   "execution_count": 38,
   "metadata": {},
   "outputs": [
    {
     "data": {
      "text/html": [
       "<div>\n",
       "<style scoped>\n",
       "    .dataframe tbody tr th:only-of-type {\n",
       "        vertical-align: middle;\n",
       "    }\n",
       "\n",
       "    .dataframe tbody tr th {\n",
       "        vertical-align: top;\n",
       "    }\n",
       "\n",
       "    .dataframe thead th {\n",
       "        text-align: right;\n",
       "    }\n",
       "</style>\n",
       "<table border=\"1\" class=\"dataframe\">\n",
       "  <thead>\n",
       "    <tr style=\"text-align: right;\">\n",
       "      <th></th>\n",
       "      <th>patient_nbr</th>\n",
       "      <th>time_in_hospital</th>\n",
       "      <th>ndc_code</th>\n",
       "      <th>readmitted</th>\n",
       "      <th>admission_type_id</th>\n",
       "      <th>discharge_disposition_id</th>\n",
       "      <th>max_glu_serum</th>\n",
       "      <th>admission_source_id</th>\n",
       "      <th>A1Cresult</th>\n",
       "      <th>primary_diagnosis_code</th>\n",
       "      <th>other_diagnosis_codes</th>\n",
       "      <th>change</th>\n",
       "      <th>race</th>\n",
       "      <th>gender</th>\n",
       "      <th>age</th>\n",
       "      <th>Acarbose</th>\n",
       "      <th>Afrezza</th>\n",
       "      <th>Amaryl</th>\n",
       "      <th>Avandia_2MG</th>\n",
       "      <th>Avandia_4MG</th>\n",
       "      <th>Glimepiride</th>\n",
       "      <th>Glipizide</th>\n",
       "      <th>Glipizide_And_Metformin_Hcl</th>\n",
       "      <th>Glipizide_And_Metformin_Hydrochloride</th>\n",
       "      <th>Glucophage</th>\n",
       "      <th>Glucophage_XR</th>\n",
       "      <th>Glucotrol</th>\n",
       "      <th>Glucotrol_XL</th>\n",
       "      <th>Glyburide</th>\n",
       "      <th>Glyburide_And_Metformin_Hydrochloride</th>\n",
       "      <th>Glyburide-metformin_Hydrochloride</th>\n",
       "      <th>Glynase</th>\n",
       "      <th>Glyset</th>\n",
       "      <th>Humulin_R</th>\n",
       "      <th>Metformin_Hcl</th>\n",
       "      <th>Metformin_Hydrochloride</th>\n",
       "      <th>Metformin_Hydrochloride_Extended_Release</th>\n",
       "      <th>Miglitol</th>\n",
       "      <th>Nateglinide</th>\n",
       "      <th>Novolin_R</th>\n",
       "      <th>Pioglitazole_And_Metformin_Hydrochloride</th>\n",
       "      <th>Pioglitazone</th>\n",
       "      <th>Pioglitazone_Hydrochloride_And_Glimepiride</th>\n",
       "      <th>Prandin</th>\n",
       "      <th>Repaglinide</th>\n",
       "      <th>Riomet</th>\n",
       "      <th>Riomet_Er</th>\n",
       "      <th>Starlix</th>\n",
       "      <th>Tolazamide</th>\n",
       "      <th>Tolbutamide</th>\n",
       "      <th>num_procedures</th>\n",
       "      <th>num_medications</th>\n",
       "      <th>number_diagnoses</th>\n",
       "    </tr>\n",
       "  </thead>\n",
       "  <tbody>\n",
       "    <tr>\n",
       "      <th>0</th>\n",
       "      <td>48330783</td>\n",
       "      <td>13.0</td>\n",
       "      <td>0049-4110</td>\n",
       "      <td>NO</td>\n",
       "      <td>2</td>\n",
       "      <td>1</td>\n",
       "      <td>None</td>\n",
       "      <td>4</td>\n",
       "      <td>None</td>\n",
       "      <td>398</td>\n",
       "      <td>427|38</td>\n",
       "      <td>Ch</td>\n",
       "      <td>Caucasian</td>\n",
       "      <td>Female</td>\n",
       "      <td>[80-90)</td>\n",
       "      <td>0</td>\n",
       "      <td>0</td>\n",
       "      <td>0</td>\n",
       "      <td>0</td>\n",
       "      <td>0</td>\n",
       "      <td>0</td>\n",
       "      <td>0</td>\n",
       "      <td>0</td>\n",
       "      <td>0</td>\n",
       "      <td>0</td>\n",
       "      <td>0</td>\n",
       "      <td>1</td>\n",
       "      <td>0</td>\n",
       "      <td>0</td>\n",
       "      <td>0</td>\n",
       "      <td>0</td>\n",
       "      <td>0</td>\n",
       "      <td>0</td>\n",
       "      <td>0</td>\n",
       "      <td>0</td>\n",
       "      <td>0</td>\n",
       "      <td>0</td>\n",
       "      <td>0</td>\n",
       "      <td>0</td>\n",
       "      <td>0</td>\n",
       "      <td>0</td>\n",
       "      <td>0</td>\n",
       "      <td>0</td>\n",
       "      <td>0</td>\n",
       "      <td>0</td>\n",
       "      <td>0</td>\n",
       "      <td>0</td>\n",
       "      <td>0</td>\n",
       "      <td>0</td>\n",
       "      <td>0</td>\n",
       "      <td>2</td>\n",
       "      <td>28</td>\n",
       "      <td>8</td>\n",
       "    </tr>\n",
       "    <tr>\n",
       "      <th>1</th>\n",
       "      <td>63555939</td>\n",
       "      <td>12.0</td>\n",
       "      <td>68071-1701</td>\n",
       "      <td>NO</td>\n",
       "      <td>3</td>\n",
       "      <td>3</td>\n",
       "      <td>None</td>\n",
       "      <td>4</td>\n",
       "      <td>None</td>\n",
       "      <td>434</td>\n",
       "      <td>198|486</td>\n",
       "      <td>Ch</td>\n",
       "      <td>Caucasian</td>\n",
       "      <td>Female</td>\n",
       "      <td>[90-100)</td>\n",
       "      <td>0</td>\n",
       "      <td>0</td>\n",
       "      <td>0</td>\n",
       "      <td>0</td>\n",
       "      <td>0</td>\n",
       "      <td>0</td>\n",
       "      <td>0</td>\n",
       "      <td>0</td>\n",
       "      <td>0</td>\n",
       "      <td>0</td>\n",
       "      <td>0</td>\n",
       "      <td>0</td>\n",
       "      <td>0</td>\n",
       "      <td>0</td>\n",
       "      <td>0</td>\n",
       "      <td>0</td>\n",
       "      <td>0</td>\n",
       "      <td>0</td>\n",
       "      <td>0</td>\n",
       "      <td>0</td>\n",
       "      <td>0</td>\n",
       "      <td>0</td>\n",
       "      <td>0</td>\n",
       "      <td>0</td>\n",
       "      <td>1</td>\n",
       "      <td>0</td>\n",
       "      <td>0</td>\n",
       "      <td>0</td>\n",
       "      <td>0</td>\n",
       "      <td>0</td>\n",
       "      <td>0</td>\n",
       "      <td>0</td>\n",
       "      <td>0</td>\n",
       "      <td>0</td>\n",
       "      <td>0</td>\n",
       "      <td>3</td>\n",
       "      <td>18</td>\n",
       "      <td>8</td>\n",
       "    </tr>\n",
       "    <tr>\n",
       "      <th>2</th>\n",
       "      <td>42519267</td>\n",
       "      <td>1.0</td>\n",
       "      <td>0049-4110</td>\n",
       "      <td>NO</td>\n",
       "      <td>1</td>\n",
       "      <td>1</td>\n",
       "      <td>None</td>\n",
       "      <td>7</td>\n",
       "      <td>None</td>\n",
       "      <td>197</td>\n",
       "      <td>157|250</td>\n",
       "      <td>Ch</td>\n",
       "      <td>Caucasian</td>\n",
       "      <td>Male</td>\n",
       "      <td>[40-50)</td>\n",
       "      <td>0</td>\n",
       "      <td>0</td>\n",
       "      <td>0</td>\n",
       "      <td>0</td>\n",
       "      <td>0</td>\n",
       "      <td>0</td>\n",
       "      <td>0</td>\n",
       "      <td>0</td>\n",
       "      <td>0</td>\n",
       "      <td>0</td>\n",
       "      <td>0</td>\n",
       "      <td>1</td>\n",
       "      <td>0</td>\n",
       "      <td>0</td>\n",
       "      <td>0</td>\n",
       "      <td>0</td>\n",
       "      <td>0</td>\n",
       "      <td>0</td>\n",
       "      <td>0</td>\n",
       "      <td>0</td>\n",
       "      <td>0</td>\n",
       "      <td>0</td>\n",
       "      <td>0</td>\n",
       "      <td>0</td>\n",
       "      <td>0</td>\n",
       "      <td>0</td>\n",
       "      <td>0</td>\n",
       "      <td>0</td>\n",
       "      <td>0</td>\n",
       "      <td>0</td>\n",
       "      <td>0</td>\n",
       "      <td>0</td>\n",
       "      <td>0</td>\n",
       "      <td>0</td>\n",
       "      <td>0</td>\n",
       "      <td>0</td>\n",
       "      <td>8</td>\n",
       "      <td>5</td>\n",
       "    </tr>\n",
       "    <tr>\n",
       "      <th>3</th>\n",
       "      <td>89869032</td>\n",
       "      <td>9.0</td>\n",
       "      <td>68071-1701</td>\n",
       "      <td>&gt;30</td>\n",
       "      <td>1</td>\n",
       "      <td>1</td>\n",
       "      <td>None</td>\n",
       "      <td>7</td>\n",
       "      <td>None</td>\n",
       "      <td>250.7</td>\n",
       "      <td>403|996</td>\n",
       "      <td>No</td>\n",
       "      <td>AfricanAmerican</td>\n",
       "      <td>Female</td>\n",
       "      <td>[40-50)</td>\n",
       "      <td>0</td>\n",
       "      <td>0</td>\n",
       "      <td>0</td>\n",
       "      <td>0</td>\n",
       "      <td>0</td>\n",
       "      <td>0</td>\n",
       "      <td>0</td>\n",
       "      <td>0</td>\n",
       "      <td>0</td>\n",
       "      <td>0</td>\n",
       "      <td>0</td>\n",
       "      <td>0</td>\n",
       "      <td>0</td>\n",
       "      <td>0</td>\n",
       "      <td>0</td>\n",
       "      <td>0</td>\n",
       "      <td>0</td>\n",
       "      <td>0</td>\n",
       "      <td>0</td>\n",
       "      <td>0</td>\n",
       "      <td>0</td>\n",
       "      <td>0</td>\n",
       "      <td>0</td>\n",
       "      <td>0</td>\n",
       "      <td>1</td>\n",
       "      <td>0</td>\n",
       "      <td>0</td>\n",
       "      <td>0</td>\n",
       "      <td>0</td>\n",
       "      <td>0</td>\n",
       "      <td>0</td>\n",
       "      <td>0</td>\n",
       "      <td>0</td>\n",
       "      <td>0</td>\n",
       "      <td>0</td>\n",
       "      <td>2</td>\n",
       "      <td>17</td>\n",
       "      <td>9</td>\n",
       "    </tr>\n",
       "    <tr>\n",
       "      <th>4</th>\n",
       "      <td>82637451</td>\n",
       "      <td>3.0</td>\n",
       "      <td>47918-902</td>\n",
       "      <td>&gt;30</td>\n",
       "      <td>2</td>\n",
       "      <td>1</td>\n",
       "      <td>None</td>\n",
       "      <td>2</td>\n",
       "      <td>None</td>\n",
       "      <td>414</td>\n",
       "      <td>411|250</td>\n",
       "      <td>No</td>\n",
       "      <td>Caucasian</td>\n",
       "      <td>Male</td>\n",
       "      <td>[50-60)</td>\n",
       "      <td>0</td>\n",
       "      <td>1</td>\n",
       "      <td>0</td>\n",
       "      <td>0</td>\n",
       "      <td>0</td>\n",
       "      <td>0</td>\n",
       "      <td>0</td>\n",
       "      <td>0</td>\n",
       "      <td>0</td>\n",
       "      <td>0</td>\n",
       "      <td>0</td>\n",
       "      <td>0</td>\n",
       "      <td>0</td>\n",
       "      <td>0</td>\n",
       "      <td>0</td>\n",
       "      <td>0</td>\n",
       "      <td>0</td>\n",
       "      <td>0</td>\n",
       "      <td>0</td>\n",
       "      <td>0</td>\n",
       "      <td>0</td>\n",
       "      <td>0</td>\n",
       "      <td>0</td>\n",
       "      <td>0</td>\n",
       "      <td>0</td>\n",
       "      <td>0</td>\n",
       "      <td>0</td>\n",
       "      <td>0</td>\n",
       "      <td>0</td>\n",
       "      <td>0</td>\n",
       "      <td>0</td>\n",
       "      <td>0</td>\n",
       "      <td>0</td>\n",
       "      <td>0</td>\n",
       "      <td>0</td>\n",
       "      <td>6</td>\n",
       "      <td>16</td>\n",
       "      <td>9</td>\n",
       "    </tr>\n",
       "    <tr>\n",
       "      <th>...</th>\n",
       "      <td>...</td>\n",
       "      <td>...</td>\n",
       "      <td>...</td>\n",
       "      <td>...</td>\n",
       "      <td>...</td>\n",
       "      <td>...</td>\n",
       "      <td>...</td>\n",
       "      <td>...</td>\n",
       "      <td>...</td>\n",
       "      <td>...</td>\n",
       "      <td>...</td>\n",
       "      <td>...</td>\n",
       "      <td>...</td>\n",
       "      <td>...</td>\n",
       "      <td>...</td>\n",
       "      <td>...</td>\n",
       "      <td>...</td>\n",
       "      <td>...</td>\n",
       "      <td>...</td>\n",
       "      <td>...</td>\n",
       "      <td>...</td>\n",
       "      <td>...</td>\n",
       "      <td>...</td>\n",
       "      <td>...</td>\n",
       "      <td>...</td>\n",
       "      <td>...</td>\n",
       "      <td>...</td>\n",
       "      <td>...</td>\n",
       "      <td>...</td>\n",
       "      <td>...</td>\n",
       "      <td>...</td>\n",
       "      <td>...</td>\n",
       "      <td>...</td>\n",
       "      <td>...</td>\n",
       "      <td>...</td>\n",
       "      <td>...</td>\n",
       "      <td>...</td>\n",
       "      <td>...</td>\n",
       "      <td>...</td>\n",
       "      <td>...</td>\n",
       "      <td>...</td>\n",
       "      <td>...</td>\n",
       "      <td>...</td>\n",
       "      <td>...</td>\n",
       "      <td>...</td>\n",
       "      <td>...</td>\n",
       "      <td>...</td>\n",
       "      <td>...</td>\n",
       "      <td>...</td>\n",
       "      <td>...</td>\n",
       "      <td>...</td>\n",
       "      <td>...</td>\n",
       "      <td>...</td>\n",
       "    </tr>\n",
       "    <tr>\n",
       "      <th>56128</th>\n",
       "      <td>183087545</td>\n",
       "      <td>9.0</td>\n",
       "      <td>47918-902</td>\n",
       "      <td>&gt;30</td>\n",
       "      <td>1</td>\n",
       "      <td>1</td>\n",
       "      <td>None</td>\n",
       "      <td>7</td>\n",
       "      <td>&gt;7</td>\n",
       "      <td>574</td>\n",
       "      <td>574|250.02</td>\n",
       "      <td>Ch</td>\n",
       "      <td>Caucasian</td>\n",
       "      <td>Female</td>\n",
       "      <td>[70-80)</td>\n",
       "      <td>0</td>\n",
       "      <td>1</td>\n",
       "      <td>0</td>\n",
       "      <td>0</td>\n",
       "      <td>0</td>\n",
       "      <td>0</td>\n",
       "      <td>0</td>\n",
       "      <td>0</td>\n",
       "      <td>0</td>\n",
       "      <td>0</td>\n",
       "      <td>0</td>\n",
       "      <td>0</td>\n",
       "      <td>0</td>\n",
       "      <td>0</td>\n",
       "      <td>0</td>\n",
       "      <td>0</td>\n",
       "      <td>0</td>\n",
       "      <td>0</td>\n",
       "      <td>0</td>\n",
       "      <td>0</td>\n",
       "      <td>0</td>\n",
       "      <td>0</td>\n",
       "      <td>0</td>\n",
       "      <td>0</td>\n",
       "      <td>0</td>\n",
       "      <td>0</td>\n",
       "      <td>0</td>\n",
       "      <td>0</td>\n",
       "      <td>0</td>\n",
       "      <td>0</td>\n",
       "      <td>0</td>\n",
       "      <td>0</td>\n",
       "      <td>0</td>\n",
       "      <td>0</td>\n",
       "      <td>0</td>\n",
       "      <td>2</td>\n",
       "      <td>33</td>\n",
       "      <td>9</td>\n",
       "    </tr>\n",
       "    <tr>\n",
       "      <th>56129</th>\n",
       "      <td>188574944</td>\n",
       "      <td>14.0</td>\n",
       "      <td>0049-0178</td>\n",
       "      <td>&gt;30</td>\n",
       "      <td>1</td>\n",
       "      <td>1</td>\n",
       "      <td>None</td>\n",
       "      <td>7</td>\n",
       "      <td>&gt;8</td>\n",
       "      <td>592</td>\n",
       "      <td>599|518</td>\n",
       "      <td>Ch</td>\n",
       "      <td>Other</td>\n",
       "      <td>Female</td>\n",
       "      <td>[40-50)</td>\n",
       "      <td>0</td>\n",
       "      <td>0</td>\n",
       "      <td>0</td>\n",
       "      <td>0</td>\n",
       "      <td>0</td>\n",
       "      <td>0</td>\n",
       "      <td>0</td>\n",
       "      <td>0</td>\n",
       "      <td>0</td>\n",
       "      <td>0</td>\n",
       "      <td>0</td>\n",
       "      <td>0</td>\n",
       "      <td>1</td>\n",
       "      <td>0</td>\n",
       "      <td>0</td>\n",
       "      <td>0</td>\n",
       "      <td>0</td>\n",
       "      <td>0</td>\n",
       "      <td>0</td>\n",
       "      <td>0</td>\n",
       "      <td>0</td>\n",
       "      <td>0</td>\n",
       "      <td>0</td>\n",
       "      <td>0</td>\n",
       "      <td>0</td>\n",
       "      <td>0</td>\n",
       "      <td>0</td>\n",
       "      <td>0</td>\n",
       "      <td>0</td>\n",
       "      <td>0</td>\n",
       "      <td>0</td>\n",
       "      <td>0</td>\n",
       "      <td>0</td>\n",
       "      <td>0</td>\n",
       "      <td>0</td>\n",
       "      <td>6</td>\n",
       "      <td>26</td>\n",
       "      <td>9</td>\n",
       "    </tr>\n",
       "    <tr>\n",
       "      <th>56130</th>\n",
       "      <td>140199494</td>\n",
       "      <td>2.0</td>\n",
       "      <td>47918-902</td>\n",
       "      <td>&gt;30</td>\n",
       "      <td>1</td>\n",
       "      <td>1</td>\n",
       "      <td>None</td>\n",
       "      <td>7</td>\n",
       "      <td>None</td>\n",
       "      <td>996</td>\n",
       "      <td>585|403</td>\n",
       "      <td>No</td>\n",
       "      <td>Other</td>\n",
       "      <td>Female</td>\n",
       "      <td>[60-70)</td>\n",
       "      <td>0</td>\n",
       "      <td>1</td>\n",
       "      <td>0</td>\n",
       "      <td>0</td>\n",
       "      <td>0</td>\n",
       "      <td>0</td>\n",
       "      <td>0</td>\n",
       "      <td>0</td>\n",
       "      <td>0</td>\n",
       "      <td>0</td>\n",
       "      <td>0</td>\n",
       "      <td>0</td>\n",
       "      <td>0</td>\n",
       "      <td>0</td>\n",
       "      <td>0</td>\n",
       "      <td>0</td>\n",
       "      <td>0</td>\n",
       "      <td>0</td>\n",
       "      <td>0</td>\n",
       "      <td>0</td>\n",
       "      <td>0</td>\n",
       "      <td>0</td>\n",
       "      <td>0</td>\n",
       "      <td>0</td>\n",
       "      <td>0</td>\n",
       "      <td>0</td>\n",
       "      <td>0</td>\n",
       "      <td>0</td>\n",
       "      <td>0</td>\n",
       "      <td>0</td>\n",
       "      <td>0</td>\n",
       "      <td>0</td>\n",
       "      <td>0</td>\n",
       "      <td>0</td>\n",
       "      <td>0</td>\n",
       "      <td>6</td>\n",
       "      <td>17</td>\n",
       "      <td>9</td>\n",
       "    </tr>\n",
       "    <tr>\n",
       "      <th>56131</th>\n",
       "      <td>181593374</td>\n",
       "      <td>5.0</td>\n",
       "      <td>68071-1701</td>\n",
       "      <td>NO</td>\n",
       "      <td>1</td>\n",
       "      <td>1</td>\n",
       "      <td>None</td>\n",
       "      <td>7</td>\n",
       "      <td>None</td>\n",
       "      <td>491</td>\n",
       "      <td>518|511</td>\n",
       "      <td>No</td>\n",
       "      <td>Caucasian</td>\n",
       "      <td>Female</td>\n",
       "      <td>[70-80)</td>\n",
       "      <td>0</td>\n",
       "      <td>0</td>\n",
       "      <td>0</td>\n",
       "      <td>0</td>\n",
       "      <td>0</td>\n",
       "      <td>0</td>\n",
       "      <td>0</td>\n",
       "      <td>0</td>\n",
       "      <td>0</td>\n",
       "      <td>0</td>\n",
       "      <td>0</td>\n",
       "      <td>0</td>\n",
       "      <td>0</td>\n",
       "      <td>0</td>\n",
       "      <td>0</td>\n",
       "      <td>0</td>\n",
       "      <td>0</td>\n",
       "      <td>0</td>\n",
       "      <td>0</td>\n",
       "      <td>0</td>\n",
       "      <td>0</td>\n",
       "      <td>0</td>\n",
       "      <td>0</td>\n",
       "      <td>0</td>\n",
       "      <td>1</td>\n",
       "      <td>0</td>\n",
       "      <td>0</td>\n",
       "      <td>0</td>\n",
       "      <td>0</td>\n",
       "      <td>0</td>\n",
       "      <td>0</td>\n",
       "      <td>0</td>\n",
       "      <td>0</td>\n",
       "      <td>0</td>\n",
       "      <td>0</td>\n",
       "      <td>1</td>\n",
       "      <td>16</td>\n",
       "      <td>9</td>\n",
       "    </tr>\n",
       "    <tr>\n",
       "      <th>56132</th>\n",
       "      <td>120975314</td>\n",
       "      <td>5.0</td>\n",
       "      <td>47918-902</td>\n",
       "      <td>NO</td>\n",
       "      <td>1</td>\n",
       "      <td>1</td>\n",
       "      <td>None</td>\n",
       "      <td>7</td>\n",
       "      <td>None</td>\n",
       "      <td>292</td>\n",
       "      <td>8|304</td>\n",
       "      <td>Ch</td>\n",
       "      <td>Caucasian</td>\n",
       "      <td>Female</td>\n",
       "      <td>[80-90)</td>\n",
       "      <td>0</td>\n",
       "      <td>1</td>\n",
       "      <td>0</td>\n",
       "      <td>0</td>\n",
       "      <td>0</td>\n",
       "      <td>0</td>\n",
       "      <td>0</td>\n",
       "      <td>0</td>\n",
       "      <td>0</td>\n",
       "      <td>0</td>\n",
       "      <td>0</td>\n",
       "      <td>0</td>\n",
       "      <td>0</td>\n",
       "      <td>0</td>\n",
       "      <td>0</td>\n",
       "      <td>0</td>\n",
       "      <td>0</td>\n",
       "      <td>0</td>\n",
       "      <td>0</td>\n",
       "      <td>0</td>\n",
       "      <td>0</td>\n",
       "      <td>0</td>\n",
       "      <td>0</td>\n",
       "      <td>0</td>\n",
       "      <td>0</td>\n",
       "      <td>0</td>\n",
       "      <td>0</td>\n",
       "      <td>0</td>\n",
       "      <td>0</td>\n",
       "      <td>0</td>\n",
       "      <td>0</td>\n",
       "      <td>0</td>\n",
       "      <td>0</td>\n",
       "      <td>0</td>\n",
       "      <td>0</td>\n",
       "      <td>1</td>\n",
       "      <td>22</td>\n",
       "      <td>9</td>\n",
       "    </tr>\n",
       "  </tbody>\n",
       "</table>\n",
       "<p>56133 rows × 53 columns</p>\n",
       "</div>"
      ],
      "text/plain": [
       "       patient_nbr  time_in_hospital    ndc_code readmitted admission_type_id  \\\n",
       "0         48330783              13.0   0049-4110         NO                 2   \n",
       "1         63555939              12.0  68071-1701         NO                 3   \n",
       "2         42519267               1.0   0049-4110         NO                 1   \n",
       "3         89869032               9.0  68071-1701        >30                 1   \n",
       "4         82637451               3.0   47918-902        >30                 2   \n",
       "...            ...               ...         ...        ...               ...   \n",
       "56128    183087545               9.0   47918-902        >30                 1   \n",
       "56129    188574944              14.0   0049-0178        >30                 1   \n",
       "56130    140199494               2.0   47918-902        >30                 1   \n",
       "56131    181593374               5.0  68071-1701         NO                 1   \n",
       "56132    120975314               5.0   47918-902         NO                 1   \n",
       "\n",
       "      discharge_disposition_id max_glu_serum admission_source_id A1Cresult  \\\n",
       "0                            1          None                   4      None   \n",
       "1                            3          None                   4      None   \n",
       "2                            1          None                   7      None   \n",
       "3                            1          None                   7      None   \n",
       "4                            1          None                   2      None   \n",
       "...                        ...           ...                 ...       ...   \n",
       "56128                        1          None                   7        >7   \n",
       "56129                        1          None                   7        >8   \n",
       "56130                        1          None                   7      None   \n",
       "56131                        1          None                   7      None   \n",
       "56132                        1          None                   7      None   \n",
       "\n",
       "      primary_diagnosis_code other_diagnosis_codes change             race  \\\n",
       "0                        398                427|38     Ch        Caucasian   \n",
       "1                        434               198|486     Ch        Caucasian   \n",
       "2                        197               157|250     Ch        Caucasian   \n",
       "3                      250.7               403|996     No  AfricanAmerican   \n",
       "4                        414               411|250     No        Caucasian   \n",
       "...                      ...                   ...    ...              ...   \n",
       "56128                    574            574|250.02     Ch        Caucasian   \n",
       "56129                    592               599|518     Ch            Other   \n",
       "56130                    996               585|403     No            Other   \n",
       "56131                    491               518|511     No        Caucasian   \n",
       "56132                    292                 8|304     Ch        Caucasian   \n",
       "\n",
       "       gender       age Acarbose Afrezza Amaryl Avandia_2MG Avandia_4MG  \\\n",
       "0      Female   [80-90)        0       0      0           0           0   \n",
       "1      Female  [90-100)        0       0      0           0           0   \n",
       "2        Male   [40-50)        0       0      0           0           0   \n",
       "3      Female   [40-50)        0       0      0           0           0   \n",
       "4        Male   [50-60)        0       1      0           0           0   \n",
       "...       ...       ...      ...     ...    ...         ...         ...   \n",
       "56128  Female   [70-80)        0       1      0           0           0   \n",
       "56129  Female   [40-50)        0       0      0           0           0   \n",
       "56130  Female   [60-70)        0       1      0           0           0   \n",
       "56131  Female   [70-80)        0       0      0           0           0   \n",
       "56132  Female   [80-90)        0       1      0           0           0   \n",
       "\n",
       "      Glimepiride Glipizide Glipizide_And_Metformin_Hcl  \\\n",
       "0               0         0                           0   \n",
       "1               0         0                           0   \n",
       "2               0         0                           0   \n",
       "3               0         0                           0   \n",
       "4               0         0                           0   \n",
       "...           ...       ...                         ...   \n",
       "56128           0         0                           0   \n",
       "56129           0         0                           0   \n",
       "56130           0         0                           0   \n",
       "56131           0         0                           0   \n",
       "56132           0         0                           0   \n",
       "\n",
       "      Glipizide_And_Metformin_Hydrochloride Glucophage Glucophage_XR  \\\n",
       "0                                         0          0             0   \n",
       "1                                         0          0             0   \n",
       "2                                         0          0             0   \n",
       "3                                         0          0             0   \n",
       "4                                         0          0             0   \n",
       "...                                     ...        ...           ...   \n",
       "56128                                     0          0             0   \n",
       "56129                                     0          0             0   \n",
       "56130                                     0          0             0   \n",
       "56131                                     0          0             0   \n",
       "56132                                     0          0             0   \n",
       "\n",
       "      Glucotrol Glucotrol_XL Glyburide Glyburide_And_Metformin_Hydrochloride  \\\n",
       "0             1            0         0                                     0   \n",
       "1             0            0         0                                     0   \n",
       "2             1            0         0                                     0   \n",
       "3             0            0         0                                     0   \n",
       "4             0            0         0                                     0   \n",
       "...         ...          ...       ...                                   ...   \n",
       "56128         0            0         0                                     0   \n",
       "56129         0            1         0                                     0   \n",
       "56130         0            0         0                                     0   \n",
       "56131         0            0         0                                     0   \n",
       "56132         0            0         0                                     0   \n",
       "\n",
       "      Glyburide-metformin_Hydrochloride Glynase Glyset Humulin_R  \\\n",
       "0                                     0       0      0         0   \n",
       "1                                     0       0      0         0   \n",
       "2                                     0       0      0         0   \n",
       "3                                     0       0      0         0   \n",
       "4                                     0       0      0         0   \n",
       "...                                 ...     ...    ...       ...   \n",
       "56128                                 0       0      0         0   \n",
       "56129                                 0       0      0         0   \n",
       "56130                                 0       0      0         0   \n",
       "56131                                 0       0      0         0   \n",
       "56132                                 0       0      0         0   \n",
       "\n",
       "      Metformin_Hcl Metformin_Hydrochloride  \\\n",
       "0                 0                       0   \n",
       "1                 0                       0   \n",
       "2                 0                       0   \n",
       "3                 0                       0   \n",
       "4                 0                       0   \n",
       "...             ...                     ...   \n",
       "56128             0                       0   \n",
       "56129             0                       0   \n",
       "56130             0                       0   \n",
       "56131             0                       0   \n",
       "56132             0                       0   \n",
       "\n",
       "      Metformin_Hydrochloride_Extended_Release Miglitol Nateglinide Novolin_R  \\\n",
       "0                                            0        0           0         0   \n",
       "1                                            0        0           0         1   \n",
       "2                                            0        0           0         0   \n",
       "3                                            0        0           0         1   \n",
       "4                                            0        0           0         0   \n",
       "...                                        ...      ...         ...       ...   \n",
       "56128                                        0        0           0         0   \n",
       "56129                                        0        0           0         0   \n",
       "56130                                        0        0           0         0   \n",
       "56131                                        0        0           0         1   \n",
       "56132                                        0        0           0         0   \n",
       "\n",
       "      Pioglitazole_And_Metformin_Hydrochloride Pioglitazone  \\\n",
       "0                                            0            0   \n",
       "1                                            0            0   \n",
       "2                                            0            0   \n",
       "3                                            0            0   \n",
       "4                                            0            0   \n",
       "...                                        ...          ...   \n",
       "56128                                        0            0   \n",
       "56129                                        0            0   \n",
       "56130                                        0            0   \n",
       "56131                                        0            0   \n",
       "56132                                        0            0   \n",
       "\n",
       "      Pioglitazone_Hydrochloride_And_Glimepiride Prandin Repaglinide Riomet  \\\n",
       "0                                              0       0           0      0   \n",
       "1                                              0       0           0      0   \n",
       "2                                              0       0           0      0   \n",
       "3                                              0       0           0      0   \n",
       "4                                              0       0           0      0   \n",
       "...                                          ...     ...         ...    ...   \n",
       "56128                                          0       0           0      0   \n",
       "56129                                          0       0           0      0   \n",
       "56130                                          0       0           0      0   \n",
       "56131                                          0       0           0      0   \n",
       "56132                                          0       0           0      0   \n",
       "\n",
       "      Riomet_Er Starlix Tolazamide Tolbutamide  num_procedures  \\\n",
       "0             0       0          0           0               2   \n",
       "1             0       0          0           0               3   \n",
       "2             0       0          0           0               0   \n",
       "3             0       0          0           0               2   \n",
       "4             0       0          0           0               6   \n",
       "...         ...     ...        ...         ...             ...   \n",
       "56128         0       0          0           0               2   \n",
       "56129         0       0          0           0               6   \n",
       "56130         0       0          0           0               6   \n",
       "56131         0       0          0           0               1   \n",
       "56132         0       0          0           0               1   \n",
       "\n",
       "       num_medications  number_diagnoses  \n",
       "0                   28                 8  \n",
       "1                   18                 8  \n",
       "2                    8                 5  \n",
       "3                   17                 9  \n",
       "4                   16                 9  \n",
       "...                ...               ...  \n",
       "56128               33                 9  \n",
       "56129               26                 9  \n",
       "56130               17                 9  \n",
       "56131               16                 9  \n",
       "56132               22                 9  \n",
       "\n",
       "[56133 rows x 53 columns]"
      ]
     },
     "execution_count": 38,
     "metadata": {},
     "output_type": "execute_result"
    }
   ],
   "source": [
    "processed_df = pd.DataFrame(processed_df)\n",
    "processed_df"
   ]
  },
  {
   "cell_type": "code",
   "execution_count": 39,
   "metadata": {},
   "outputs": [],
   "source": [
    "from student_utils import patient_dataset_splitter\n",
    "d_train, d_val, d_test = patient_dataset_splitter(processed_df, 'patient_nbr')"
   ]
  },
  {
   "cell_type": "code",
   "execution_count": 40,
   "metadata": {},
   "outputs": [
    {
     "name": "stdout",
     "output_type": "stream",
     "text": [
      "Test passed for number of total rows equal!\n"
     ]
    }
   ],
   "source": [
    "assert len(d_train) + len(d_val) + len(d_test) == len(processed_df)\n",
    "print(\"Test passed for number of total rows equal!\")"
   ]
  },
  {
   "cell_type": "code",
   "execution_count": 41,
   "metadata": {},
   "outputs": [
    {
     "name": "stdout",
     "output_type": "stream",
     "text": [
      "Test passed for number of unique patients being equal!\n"
     ]
    }
   ],
   "source": [
    "assert (d_train['patient_nbr'].nunique() + d_val['patient_nbr'].nunique() + d_test['patient_nbr'].nunique()) == agg_drug_df['patient_nbr'].nunique()\n",
    "print(\"Test passed for number of unique patients being equal!\")"
   ]
  },
  {
   "cell_type": "markdown",
   "metadata": {},
   "source": [
    "## Demographic Representation Analysis of Split"
   ]
  },
  {
   "cell_type": "markdown",
   "metadata": {},
   "source": [
    "After the split, we should check to see the distribution of key features/groups and make sure that there is representative samples across the partitions. The show_group_stats_viz function in the utils.py file can be used to group and visualize different groups and dataframe partitions."
   ]
  },
  {
   "cell_type": "markdown",
   "metadata": {},
   "source": [
    "### Label Distribution Across Partitions"
   ]
  },
  {
   "cell_type": "markdown",
   "metadata": {},
   "source": [
    "Below you can see the distributution of the label across your splits. Are the histogram distribution shapes similar across partitions?"
   ]
  },
  {
   "cell_type": "code",
   "execution_count": 42,
   "metadata": {},
   "outputs": [
    {
     "name": "stdout",
     "output_type": "stream",
     "text": [
      "time_in_hospital\n",
      "1.0      7532\n",
      "2.0      9473\n",
      "3.0     10028\n",
      "4.0      7681\n",
      "5.0      5566\n",
      "6.0      4122\n",
      "7.0      3231\n",
      "8.0      2419\n",
      "9.0      1655\n",
      "10.0     1292\n",
      "11.0     1054\n",
      "12.0      807\n",
      "13.0      702\n",
      "14.0      571\n",
      "dtype: int64\n",
      "AxesSubplot(0.125,0.125;0.775x0.755)\n"
     ]
    },
    {
     "data": {
      "image/png": "[encoded data removed]",
      "text/plain": [
       "<Figure size 432x288 with 1 Axes>"
      ]
     },
     "metadata": {
      "needs_background": "light"
     },
     "output_type": "display_data"
    }
   ],
   "source": [
    "show_group_stats_viz(processed_df, PREDICTOR_FIELD)"
   ]
  },
  {
   "cell_type": "code",
   "execution_count": 43,
   "metadata": {},
   "outputs": [
    {
     "name": "stdout",
     "output_type": "stream",
     "text": [
      "time_in_hospital\n",
      "1.0     4552\n",
      "2.0     5656\n",
      "3.0     6003\n",
      "4.0     4555\n",
      "5.0     3361\n",
      "6.0     2494\n",
      "7.0     1941\n",
      "8.0     1461\n",
      "9.0      989\n",
      "10.0     783\n",
      "11.0     659\n",
      "12.0     510\n",
      "13.0     389\n",
      "14.0     327\n",
      "dtype: int64\n",
      "AxesSubplot(0.125,0.125;0.775x0.755)\n"
     ]
    },
    {
     "data": {
      "image/png": "[encoded data removed]",
      "text/plain": [
       "<Figure size 432x288 with 1 Axes>"
      ]
     },
     "metadata": {
      "needs_background": "light"
     },
     "output_type": "display_data"
    }
   ],
   "source": [
    "show_group_stats_viz(d_train, PREDICTOR_FIELD)"
   ]
  },
  {
   "cell_type": "code",
   "execution_count": 44,
   "metadata": {},
   "outputs": [
    {
     "name": "stdout",
     "output_type": "stream",
     "text": [
      "time_in_hospital\n",
      "1.0     1490\n",
      "2.0     1920\n",
      "3.0     1979\n",
      "4.0     1623\n",
      "5.0     1091\n",
      "6.0      809\n",
      "7.0      657\n",
      "8.0      485\n",
      "9.0      322\n",
      "10.0     253\n",
      "11.0     191\n",
      "12.0     147\n",
      "13.0     150\n",
      "14.0     110\n",
      "dtype: int64\n",
      "AxesSubplot(0.125,0.125;0.775x0.755)\n"
     ]
    },
    {
     "data": {
      "image/png": "[encoded data removed]",
      "text/plain": [
       "<Figure size 432x288 with 1 Axes>"
      ]
     },
     "metadata": {
      "needs_background": "light"
     },
     "output_type": "display_data"
    }
   ],
   "source": [
    "show_group_stats_viz(d_test, PREDICTOR_FIELD)"
   ]
  },
  {
   "cell_type": "markdown",
   "metadata": {},
   "source": [
    "## Demographic Group Analysis"
   ]
  },
  {
   "cell_type": "markdown",
   "metadata": {},
   "source": [
    "We should check that our partitions/splits of the dataset are similar in terms of their demographic profiles. Below you can see how we might visualize and analyze the full dataset vs. the partitions."
   ]
  },
  {
   "cell_type": "code",
   "execution_count": 45,
   "metadata": {},
   "outputs": [
    {
     "name": "stdout",
     "output_type": "stream",
     "text": [
      "gender\n",
      "Female             29583\n",
      "Male               26548\n",
      "Unknown/Invalid        2\n",
      "dtype: int64\n",
      "AxesSubplot(0.125,0.125;0.775x0.755)\n"
     ]
    },
    {
     "data": {
      "image/png": "[encoded data removed]",
      "text/plain": [
       "<Figure size 432x288 with 1 Axes>"
      ]
     },
     "metadata": {
      "needs_background": "light"
     },
     "output_type": "display_data"
    }
   ],
   "source": [
    "# Full dataset before splitting\n",
    "patient_demo_features = ['race', 'gender', 'age', 'patient_nbr']\n",
    "patient_group_analysis_df = processed_df[patient_demo_features].groupby('patient_nbr').head(1).reset_index(drop=True)\n",
    "show_group_stats_viz(patient_group_analysis_df, 'gender')"
   ]
  },
  {
   "cell_type": "code",
   "execution_count": 46,
   "metadata": {},
   "outputs": [
    {
     "name": "stdout",
     "output_type": "stream",
     "text": [
      "gender\n",
      "Female             17851\n",
      "Male               15828\n",
      "Unknown/Invalid        1\n",
      "dtype: int64\n",
      "AxesSubplot(0.125,0.125;0.775x0.755)\n"
     ]
    },
    {
     "data": {
      "image/png": "[encoded data removed]",
      "text/plain": [
       "<Figure size 432x288 with 1 Axes>"
      ]
     },
     "metadata": {
      "needs_background": "light"
     },
     "output_type": "display_data"
    }
   ],
   "source": [
    "# Training partition\n",
    "show_group_stats_viz(d_train, 'gender')"
   ]
  },
  {
   "cell_type": "code",
   "execution_count": 47,
   "metadata": {},
   "outputs": [
    {
     "name": "stdout",
     "output_type": "stream",
     "text": [
      "gender\n",
      "Female             5876\n",
      "Male               5350\n",
      "Unknown/Invalid       1\n",
      "dtype: int64\n",
      "AxesSubplot(0.125,0.125;0.775x0.755)\n"
     ]
    },
    {
     "data": {
      "image/png": "[encoded data removed]",
      "text/plain": [
       "<Figure size 432x288 with 1 Axes>"
      ]
     },
     "metadata": {
      "needs_background": "light"
     },
     "output_type": "display_data"
    }
   ],
   "source": [
    "# Test partition\n",
    "show_group_stats_viz(d_test, 'gender')"
   ]
  },
  {
   "cell_type": "markdown",
   "metadata": {},
   "source": [
    "## Convert Dataset Splits to TF Dataset"
   ]
  },
  {
   "cell_type": "markdown",
   "metadata": {},
   "source": [
    "We have provided you the function to convert the Pandas dataframe to TF tensors using the TF Dataset API. \n",
    "Please note that this is not a scalable method and for larger datasets, the 'make_csv_dataset' method is recommended -https://www.tensorflow.org/api_docs/python/tf/data/experimental/make_csv_dataset."
   ]
  },
  {
   "cell_type": "code",
   "execution_count": 48,
   "metadata": {},
   "outputs": [],
   "source": [
    "# Convert dataset from Pandas dataframes to TF dataset \n",
    "batch_size = 128\n",
    "diabetes_train_ds = df_to_dataset(d_train, PREDICTOR_FIELD, batch_size=batch_size)\n",
    "diabetes_val_ds = df_to_dataset(d_val, PREDICTOR_FIELD, batch_size=batch_size)\n",
    "diabetes_test_ds = df_to_dataset(d_test, PREDICTOR_FIELD, batch_size=batch_size)"
   ]
  },
  {
   "cell_type": "code",
   "execution_count": 49,
   "metadata": {},
   "outputs": [],
   "source": [
    "# We use this sample of the dataset to show transformations later\n",
    "diabetes_batch = next(iter(diabetes_train_ds))[0]\n",
    "def demo(feature_column, example_batch):\n",
    "    feature_layer = layers.DenseFeatures(feature_column)\n",
    "    print(feature_layer(example_batch))"
   ]
  },
  {
   "cell_type": "markdown",
   "metadata": {},
   "source": [
    "# 4. Create Categorical Features with TF Feature Columns"
   ]
  },
  {
   "cell_type": "markdown",
   "metadata": {},
   "source": [
    "## Build Vocabulary for Categorical Features"
   ]
  },
  {
   "cell_type": "markdown",
   "metadata": {},
   "source": [
    "Before we can create the TF categorical features, we must first create the vocab files with the unique values for a given field that are from the **training** dataset. Below we have provided a function that you can use that only requires providing the pandas train dataset partition and the list of the categorical columns in a list format. The output variable 'vocab_file_list' will be a list of the file paths that can be used in the next step for creating the categorical features."
   ]
  },
  {
   "cell_type": "code",
   "execution_count": 50,
   "metadata": {},
   "outputs": [],
   "source": [
    "vocab_file_list = build_vocab_files(d_train, student_categorical_col_list)"
   ]
  },
  {
   "cell_type": "markdown",
   "metadata": {},
   "source": [
    "## Create Categorical Features with Tensorflow Feature Column API"
   ]
  },
  {
   "cell_type": "markdown",
   "metadata": {},
   "source": [
    "**Question 7**: Using the vocab file list from above that was derived fromt the features you selected earlier, please create categorical features with the Tensorflow Feature Column API, https://www.tensorflow.org/api_docs/python/tf/feature_column. Below is a function to help guide you."
   ]
  },
  {
   "cell_type": "code",
   "execution_count": 51,
   "metadata": {},
   "outputs": [
    {
     "name": "stdout",
     "output_type": "stream",
     "text": [
      "INFO:tensorflow:vocabulary_size = 236 in ndc_code is inferred from the number of elements in the vocabulary_file ./diabetes_vocab/ndc_code_vocab.txt.\n",
      "INFO:tensorflow:vocabulary_size = 4 in readmitted is inferred from the number of elements in the vocabulary_file ./diabetes_vocab/readmitted_vocab.txt.\n",
      "INFO:tensorflow:vocabulary_size = 9 in admission_type_id is inferred from the number of elements in the vocabulary_file ./diabetes_vocab/admission_type_id_vocab.txt.\n",
      "INFO:tensorflow:vocabulary_size = 25 in discharge_disposition_id is inferred from the number of elements in the vocabulary_file ./diabetes_vocab/discharge_disposition_id_vocab.txt.\n",
      "INFO:tensorflow:vocabulary_size = 5 in max_glu_serum is inferred from the number of elements in the vocabulary_file ./diabetes_vocab/max_glu_serum_vocab.txt.\n",
      "INFO:tensorflow:vocabulary_size = 17 in admission_source_id is inferred from the number of elements in the vocabulary_file ./diabetes_vocab/admission_source_id_vocab.txt.\n",
      "INFO:tensorflow:vocabulary_size = 5 in A1Cresult is inferred from the number of elements in the vocabulary_file ./diabetes_vocab/A1Cresult_vocab.txt.\n",
      "INFO:tensorflow:vocabulary_size = 619 in primary_diagnosis_code is inferred from the number of elements in the vocabulary_file ./diabetes_vocab/primary_diagnosis_code_vocab.txt.\n",
      "INFO:tensorflow:vocabulary_size = 9682 in other_diagnosis_codes is inferred from the number of elements in the vocabulary_file ./diabetes_vocab/other_diagnosis_codes_vocab.txt.\n",
      "INFO:tensorflow:vocabulary_size = 3 in change is inferred from the number of elements in the vocabulary_file ./diabetes_vocab/change_vocab.txt.\n",
      "INFO:tensorflow:vocabulary_size = 7 in race is inferred from the number of elements in the vocabulary_file ./diabetes_vocab/race_vocab.txt.\n",
      "INFO:tensorflow:vocabulary_size = 4 in gender is inferred from the number of elements in the vocabulary_file ./diabetes_vocab/gender_vocab.txt.\n",
      "INFO:tensorflow:vocabulary_size = 11 in age is inferred from the number of elements in the vocabulary_file ./diabetes_vocab/age_vocab.txt.\n",
      "INFO:tensorflow:vocabulary_size = 3 in Acarbose is inferred from the number of elements in the vocabulary_file ./diabetes_vocab/Acarbose_vocab.txt.\n",
      "INFO:tensorflow:vocabulary_size = 3 in Afrezza is inferred from the number of elements in the vocabulary_file ./diabetes_vocab/Afrezza_vocab.txt.\n",
      "INFO:tensorflow:vocabulary_size = 3 in Amaryl is inferred from the number of elements in the vocabulary_file ./diabetes_vocab/Amaryl_vocab.txt.\n",
      "INFO:tensorflow:vocabulary_size = 3 in Avandia_2MG is inferred from the number of elements in the vocabulary_file ./diabetes_vocab/Avandia_2MG_vocab.txt.\n",
      "INFO:tensorflow:vocabulary_size = 3 in Avandia_4MG is inferred from the number of elements in the vocabulary_file ./diabetes_vocab/Avandia_4MG_vocab.txt.\n",
      "INFO:tensorflow:vocabulary_size = 3 in Glimepiride is inferred from the number of elements in the vocabulary_file ./diabetes_vocab/Glimepiride_vocab.txt.\n",
      "INFO:tensorflow:vocabulary_size = 3 in Glipizide is inferred from the number of elements in the vocabulary_file ./diabetes_vocab/Glipizide_vocab.txt.\n",
      "INFO:tensorflow:vocabulary_size = 2 in Glipizide_And_Metformin_Hcl is inferred from the number of elements in the vocabulary_file ./diabetes_vocab/Glipizide_And_Metformin_Hcl_vocab.txt.\n",
      "INFO:tensorflow:vocabulary_size = 3 in Glipizide_And_Metformin_Hydrochloride is inferred from the number of elements in the vocabulary_file ./diabetes_vocab/Glipizide_And_Metformin_Hydrochloride_vocab.txt.\n",
      "INFO:tensorflow:vocabulary_size = 3 in Glucophage is inferred from the number of elements in the vocabulary_file ./diabetes_vocab/Glucophage_vocab.txt.\n",
      "INFO:tensorflow:vocabulary_size = 3 in Glucophage_XR is inferred from the number of elements in the vocabulary_file ./diabetes_vocab/Glucophage_XR_vocab.txt.\n",
      "INFO:tensorflow:vocabulary_size = 3 in Glucotrol is inferred from the number of elements in the vocabulary_file ./diabetes_vocab/Glucotrol_vocab.txt.\n",
      "INFO:tensorflow:vocabulary_size = 3 in Glucotrol_XL is inferred from the number of elements in the vocabulary_file ./diabetes_vocab/Glucotrol_XL_vocab.txt.\n",
      "INFO:tensorflow:vocabulary_size = 3 in Glyburide is inferred from the number of elements in the vocabulary_file ./diabetes_vocab/Glyburide_vocab.txt.\n",
      "INFO:tensorflow:vocabulary_size = 3 in Glyburide_And_Metformin_Hydrochloride is inferred from the number of elements in the vocabulary_file ./diabetes_vocab/Glyburide_And_Metformin_Hydrochloride_vocab.txt.\n",
      "INFO:tensorflow:vocabulary_size = 3 in Glyburide-metformin_Hydrochloride is inferred from the number of elements in the vocabulary_file ./diabetes_vocab/Glyburide-metformin_Hydrochloride_vocab.txt.\n",
      "INFO:tensorflow:vocabulary_size = 3 in Glynase is inferred from the number of elements in the vocabulary_file ./diabetes_vocab/Glynase_vocab.txt.\n",
      "INFO:tensorflow:vocabulary_size = 3 in Glyset is inferred from the number of elements in the vocabulary_file ./diabetes_vocab/Glyset_vocab.txt.\n",
      "INFO:tensorflow:vocabulary_size = 3 in Humulin_R is inferred from the number of elements in the vocabulary_file ./diabetes_vocab/Humulin_R_vocab.txt.\n",
      "INFO:tensorflow:vocabulary_size = 3 in Metformin_Hcl is inferred from the number of elements in the vocabulary_file ./diabetes_vocab/Metformin_Hcl_vocab.txt.\n",
      "INFO:tensorflow:vocabulary_size = 3 in Metformin_Hydrochloride is inferred from the number of elements in the vocabulary_file ./diabetes_vocab/Metformin_Hydrochloride_vocab.txt.\n",
      "INFO:tensorflow:vocabulary_size = 3 in Metformin_Hydrochloride_Extended_Release is inferred from the number of elements in the vocabulary_file ./diabetes_vocab/Metformin_Hydrochloride_Extended_Release_vocab.txt.\n",
      "INFO:tensorflow:vocabulary_size = 3 in Miglitol is inferred from the number of elements in the vocabulary_file ./diabetes_vocab/Miglitol_vocab.txt.\n",
      "INFO:tensorflow:vocabulary_size = 3 in Nateglinide is inferred from the number of elements in the vocabulary_file ./diabetes_vocab/Nateglinide_vocab.txt.\n",
      "INFO:tensorflow:vocabulary_size = 3 in Novolin_R is inferred from the number of elements in the vocabulary_file ./diabetes_vocab/Novolin_R_vocab.txt.\n",
      "INFO:tensorflow:vocabulary_size = 3 in Pioglitazole_And_Metformin_Hydrochloride is inferred from the number of elements in the vocabulary_file ./diabetes_vocab/Pioglitazole_And_Metformin_Hydrochloride_vocab.txt.\n",
      "INFO:tensorflow:vocabulary_size = 3 in Pioglitazone is inferred from the number of elements in the vocabulary_file ./diabetes_vocab/Pioglitazone_vocab.txt.\n",
      "INFO:tensorflow:vocabulary_size = 3 in Pioglitazone_Hydrochloride_And_Glimepiride is inferred from the number of elements in the vocabulary_file ./diabetes_vocab/Pioglitazone_Hydrochloride_And_Glimepiride_vocab.txt.\n",
      "INFO:tensorflow:vocabulary_size = 3 in Prandin is inferred from the number of elements in the vocabulary_file ./diabetes_vocab/Prandin_vocab.txt.\n",
      "INFO:tensorflow:vocabulary_size = 3 in Repaglinide is inferred from the number of elements in the vocabulary_file ./diabetes_vocab/Repaglinide_vocab.txt.\n",
      "INFO:tensorflow:vocabulary_size = 3 in Riomet is inferred from the number of elements in the vocabulary_file ./diabetes_vocab/Riomet_vocab.txt.\n",
      "INFO:tensorflow:vocabulary_size = 3 in Riomet_Er is inferred from the number of elements in the vocabulary_file ./diabetes_vocab/Riomet_Er_vocab.txt.\n",
      "INFO:tensorflow:vocabulary_size = 3 in Starlix is inferred from the number of elements in the vocabulary_file ./diabetes_vocab/Starlix_vocab.txt.\n",
      "INFO:tensorflow:vocabulary_size = 3 in Tolazamide is inferred from the number of elements in the vocabulary_file ./diabetes_vocab/Tolazamide_vocab.txt.\n",
      "INFO:tensorflow:vocabulary_size = 3 in Tolbutamide is inferred from the number of elements in the vocabulary_file ./diabetes_vocab/Tolbutamide_vocab.txt.\n"
     ]
    }
   ],
   "source": [
    "from student_utils import create_tf_categorical_feature_cols\n",
    "tf_cat_col_list = create_tf_categorical_feature_cols(student_categorical_col_list)"
   ]
  },
  {
   "cell_type": "code",
   "execution_count": 52,
   "metadata": {},
   "outputs": [
    {
     "name": "stdout",
     "output_type": "stream",
     "text": [
      "Example categorical field:\n",
      "IndicatorColumn(categorical_column=VocabularyFileCategoricalColumn(key='ndc_code', vocabulary_file='./diabetes_vocab/ndc_code_vocab.txt', vocabulary_size=236, num_oov_buckets=1, dtype=tf.string, default_value=-1))\n",
      "WARNING:tensorflow:From /opt/conda/lib/python3.7/site-packages/tensorflow_core/python/feature_column/feature_column_v2.py:4267: IndicatorColumn._variable_shape (from tensorflow.python.feature_column.feature_column_v2) is deprecated and will be removed in a future version.\n",
      "Instructions for updating:\n",
      "The old _FeatureColumn APIs are being deprecated. Please use the new FeatureColumn APIs instead.\n",
      "WARNING:tensorflow:From /opt/conda/lib/python3.7/site-packages/tensorflow_core/python/feature_column/feature_column_v2.py:4322: VocabularyFileCategoricalColumn._num_buckets (from tensorflow.python.feature_column.feature_column_v2) is deprecated and will be removed in a future version.\n",
      "Instructions for updating:\n",
      "The old _FeatureColumn APIs are being deprecated. Please use the new FeatureColumn APIs instead.\n",
      "tf.Tensor(\n",
      "[[0. 0. 0. ... 0. 0. 0.]\n",
      " [0. 0. 0. ... 0. 0. 0.]\n",
      " [0. 0. 0. ... 0. 0. 0.]\n",
      " ...\n",
      " [0. 0. 0. ... 0. 0. 0.]\n",
      " [0. 0. 0. ... 0. 0. 0.]\n",
      " [0. 0. 0. ... 0. 0. 0.]], shape=(128, 237), dtype=float32)\n"
     ]
    }
   ],
   "source": [
    "test_cat_var1 = tf_cat_col_list[0]\n",
    "print(\"Example categorical field:\\n{}\".format(test_cat_var1))\n",
    "demo(test_cat_var1, diabetes_batch)"
   ]
  },
  {
   "cell_type": "markdown",
   "metadata": {},
   "source": [
    "# 5. Create Numerical Features with TF Feature Columns"
   ]
  },
  {
   "cell_type": "markdown",
   "metadata": {},
   "source": [
    "**Question 8**: Using the TF Feature Column API(https://www.tensorflow.org/api_docs/python/tf/feature_column/), please create normalized Tensorflow numeric features for the model. Try to use the z-score normalizer function below to help as well as the 'calculate_stats_from_train_data' function."
   ]
  },
  {
   "cell_type": "code",
   "execution_count": 53,
   "metadata": {},
   "outputs": [],
   "source": [
    "from student_utils import create_tf_numeric_feature"
   ]
  },
  {
   "cell_type": "markdown",
   "metadata": {},
   "source": [
    "For simplicity the create_tf_numerical_feature_cols function below uses the same normalizer function across all features(z-score normalization) but if you have time feel free to analyze and adapt the normalizer based off the statistical distributions. You may find this as a good resource in determining which transformation fits best for the data https://developers.google.com/machine-learning/data-prep/transform/normalization.\n"
   ]
  },
  {
   "cell_type": "code",
   "execution_count": 54,
   "metadata": {},
   "outputs": [],
   "source": [
    "def calculate_stats_from_train_data(df, col):\n",
    "    mean = df[col].describe()['mean']\n",
    "    std = df[col].describe()['std']\n",
    "    return mean, std\n",
    "\n",
    "def create_tf_numerical_feature_cols(numerical_col_list, train_df):\n",
    "    tf_numeric_col_list = []\n",
    "    for c in numerical_col_list:\n",
    "        mean, std = calculate_stats_from_train_data(train_df, c)\n",
    "        tf_numeric_feature = create_tf_numeric_feature(c, mean, std)\n",
    "        tf_numeric_col_list.append(tf_numeric_feature)\n",
    "    return tf_numeric_col_list"
   ]
  },
  {
   "cell_type": "code",
   "execution_count": 55,
   "metadata": {},
   "outputs": [],
   "source": [
    "tf_cont_col_list = create_tf_numerical_feature_cols(student_numerical_col_list, d_train)"
   ]
  },
  {
   "cell_type": "code",
   "execution_count": 56,
   "metadata": {},
   "outputs": [
    {
     "name": "stdout",
     "output_type": "stream",
     "text": [
      "Example continuous field:\n",
      "NumericColumn(key='num_procedures', shape=(1,), default_value=(0,), dtype=tf.float64, normalizer_fn=functools.partial(<function normalize_numeric_with_zscore at 0x7f0b1ba9cef0>, mean=1.425, std=1.7730806910654149))\n",
      "\n",
      "tf.Tensor(\n",
      "[[-1.]\n",
      " [-1.]\n",
      " [-1.]\n",
      " [-1.]\n",
      " [-1.]\n",
      " [ 2.]\n",
      " [ 0.]\n",
      " [ 4.]\n",
      " [ 3.]\n",
      " [ 4.]\n",
      " [ 1.]\n",
      " [-1.]\n",
      " [-1.]\n",
      " [ 2.]\n",
      " [-1.]\n",
      " [-1.]\n",
      " [-1.]\n",
      " [ 1.]\n",
      " [ 0.]\n",
      " [ 4.]\n",
      " [-1.]\n",
      " [-1.]\n",
      " [-1.]\n",
      " [ 2.]\n",
      " [ 0.]\n",
      " [ 1.]\n",
      " [-1.]\n",
      " [-1.]\n",
      " [-1.]\n",
      " [-1.]\n",
      " [ 4.]\n",
      " [ 5.]\n",
      " [-1.]\n",
      " [ 1.]\n",
      " [ 0.]\n",
      " [ 2.]\n",
      " [ 0.]\n",
      " [-1.]\n",
      " [-1.]\n",
      " [ 3.]\n",
      " [ 0.]\n",
      " [-1.]\n",
      " [ 1.]\n",
      " [-1.]\n",
      " [ 1.]\n",
      " [ 1.]\n",
      " [-1.]\n",
      " [ 2.]\n",
      " [-1.]\n",
      " [-1.]\n",
      " [ 1.]\n",
      " [-1.]\n",
      " [ 1.]\n",
      " [-1.]\n",
      " [ 1.]\n",
      " [ 4.]\n",
      " [ 0.]\n",
      " [-1.]\n",
      " [-1.]\n",
      " [ 0.]\n",
      " [-1.]\n",
      " [ 5.]\n",
      " [-1.]\n",
      " [-1.]\n",
      " [-1.]\n",
      " [ 1.]\n",
      " [-1.]\n",
      " [ 4.]\n",
      " [-1.]\n",
      " [-1.]\n",
      " [ 1.]\n",
      " [-1.]\n",
      " [ 1.]\n",
      " [ 5.]\n",
      " [-1.]\n",
      " [-1.]\n",
      " [-1.]\n",
      " [ 2.]\n",
      " [ 1.]\n",
      " [ 2.]\n",
      " [-1.]\n",
      " [-1.]\n",
      " [-1.]\n",
      " [-1.]\n",
      " [-1.]\n",
      " [-1.]\n",
      " [ 2.]\n",
      " [ 2.]\n",
      " [ 1.]\n",
      " [ 0.]\n",
      " [ 1.]\n",
      " [ 0.]\n",
      " [ 0.]\n",
      " [ 0.]\n",
      " [ 2.]\n",
      " [ 5.]\n",
      " [-1.]\n",
      " [-1.]\n",
      " [ 1.]\n",
      " [ 1.]\n",
      " [-1.]\n",
      " [-1.]\n",
      " [-1.]\n",
      " [ 0.]\n",
      " [-1.]\n",
      " [ 2.]\n",
      " [ 0.]\n",
      " [ 5.]\n",
      " [ 0.]\n",
      " [-1.]\n",
      " [ 0.]\n",
      " [ 2.]\n",
      " [-1.]\n",
      " [-1.]\n",
      " [-1.]\n",
      " [-1.]\n",
      " [ 0.]\n",
      " [ 1.]\n",
      " [ 2.]\n",
      " [-1.]\n",
      " [ 0.]\n",
      " [ 0.]\n",
      " [ 0.]\n",
      " [ 0.]\n",
      " [-1.]\n",
      " [-1.]\n",
      " [ 3.]\n",
      " [-1.]], shape=(128, 1), dtype=float32)\n"
     ]
    }
   ],
   "source": [
    "test_cont_var1 = tf_cont_col_list[0]\n",
    "print(\"Example continuous field:\\n{}\\n\".format(test_cont_var1))\n",
    "demo(test_cont_var1, diabetes_batch)"
   ]
  },
  {
   "cell_type": "markdown",
   "metadata": {},
   "source": [
    "# 6. Build Deep Learning Regression Model with Sequential API and TF Probability Layers"
   ]
  },
  {
   "cell_type": "markdown",
   "metadata": {},
   "source": [
    "## Use DenseFeatures to combine features for model"
   ]
  },
  {
   "cell_type": "markdown",
   "metadata": {},
   "source": [
    "Now that we have prepared categorical and numerical features using Tensorflow's Feature Column API, we can combine them into a dense vector representation for the model. Below we will create this new input layer, which we will call 'claim_feature_layer'."
   ]
  },
  {
   "cell_type": "code",
   "execution_count": 57,
   "metadata": {},
   "outputs": [],
   "source": [
    "claim_feature_columns = tf_cat_col_list + tf_cont_col_list\n",
    "claim_feature_layer = tf.keras.layers.DenseFeatures(claim_feature_columns)"
   ]
  },
  {
   "cell_type": "markdown",
   "metadata": {},
   "source": [
    "## Build Sequential API Model from DenseFeatures and TF Probability Layers"
   ]
  },
  {
   "cell_type": "markdown",
   "metadata": {},
   "source": [
    "Below we have provided some boilerplate code for building a model that connects the Sequential API, DenseFeatures, and Tensorflow Probability layers into a deep learning model. There are many opportunities to further optimize and explore different architectures through benchmarking and testing approaches in various research papers, loss and evaluation metrics, learning curves, hyperparameter tuning, TF probability layers, etc. Feel free to modify and explore as you wish."
   ]
  },
  {
   "cell_type": "markdown",
   "metadata": {},
   "source": [
    "**OPTIONAL**: Come up with a more optimal neural network architecture and hyperparameters. Share the process in discovering the architecture and hyperparameters."
   ]
  },
  {
   "cell_type": "code",
   "execution_count": 58,
   "metadata": {},
   "outputs": [],
   "source": [
    "def build_sequential_model(feature_layer):\n",
    "    model = tf.keras.Sequential([\n",
    "        feature_layer,\n",
    "        tf.keras.layers.Dense(150, activation='relu'),\n",
    "        tf.keras.layers.Dense(75, activation='relu'),\n",
    "        tfp.layers.DenseVariational(1+1, posterior_mean_field, prior_trainable),\n",
    "        tfp.layers.DistributionLambda(\n",
    "            lambda t:tfp.distributions.Normal(loc=t[..., :1],\n",
    "                                             scale=1e-3 + tf.math.softplus(0.01 * t[...,1:])\n",
    "                                             )\n",
    "        ),\n",
    "    ])\n",
    "    return model\n",
    "\n",
    "def build_diabetes_model(train_ds, val_ds,  feature_layer,  epochs=5, loss_metric='mse'):\n",
    "    model = build_sequential_model(feature_layer)\n",
    "    model.compile(optimizer='rmsprop', loss=loss_metric, metrics=[loss_metric])\n",
    "    early_stop = tf.keras.callbacks.EarlyStopping(monitor=loss_metric, patience=3)     \n",
    "    history = model.fit(train_ds, validation_data=val_ds,\n",
    "                        callbacks=[early_stop],\n",
    "                        epochs=epochs)\n",
    "    return model, history "
   ]
  },
  {
   "cell_type": "code",
   "execution_count": 59,
   "metadata": {},
   "outputs": [
    {
     "name": "stdout",
     "output_type": "stream",
     "text": [
      "Train for 264 steps, validate for 88 steps\n",
      "Epoch 1/500\n",
      "264/264 [==============================] - 17s 66ms/step - loss: 27.9226 - mse: 27.9267 - val_loss: 24.7070 - val_mse: 24.4031\n",
      "Epoch 2/500\n",
      "264/264 [==============================] - 12s 44ms/step - loss: 20.2165 - mse: 19.6888 - val_loss: 19.3703 - val_mse: 18.8181\n",
      "Epoch 3/500\n",
      "264/264 [==============================] - 12s 45ms/step - loss: 15.2301 - mse: 14.4459 - val_loss: 15.1933 - val_mse: 14.5406\n",
      "Epoch 4/500\n",
      "264/264 [==============================] - 12s 45ms/step - loss: 13.5505 - mse: 12.9057 - val_loss: 12.4925 - val_mse: 11.6146\n",
      "Epoch 5/500\n",
      "264/264 [==============================] - 12s 44ms/step - loss: 13.1223 - mse: 12.3401 - val_loss: 12.3659 - val_mse: 11.5280\n",
      "Epoch 6/500\n",
      "264/264 [==============================] - 12s 44ms/step - loss: 11.1106 - mse: 10.1240 - val_loss: 12.0005 - val_mse: 10.6645\n",
      "Epoch 7/500\n",
      "264/264 [==============================] - 12s 44ms/step - loss: 10.7966 - mse: 9.8655 - val_loss: 10.2559 - val_mse: 9.2121\n",
      "Epoch 8/500\n",
      "264/264 [==============================] - 12s 44ms/step - loss: 10.5823 - mse: 9.6324 - val_loss: 11.6619 - val_mse: 10.7355\n",
      "Epoch 9/500\n",
      "264/264 [==============================] - 12s 44ms/step - loss: 9.7792 - mse: 8.9031 - val_loss: 9.1786 - val_mse: 8.2133\n",
      "Epoch 10/500\n",
      "264/264 [==============================] - 12s 45ms/step - loss: 9.1936 - mse: 8.2498 - val_loss: 9.9406 - val_mse: 8.9753\n",
      "Epoch 11/500\n",
      "264/264 [==============================] - 12s 44ms/step - loss: 9.3988 - mse: 8.4046 - val_loss: 9.5299 - val_mse: 8.3661\n",
      "Epoch 12/500\n",
      "264/264 [==============================] - 12s 44ms/step - loss: 8.7487 - mse: 7.7756 - val_loss: 9.5275 - val_mse: 8.7631\n",
      "Epoch 13/500\n",
      "264/264 [==============================] - 11s 43ms/step - loss: 8.2964 - mse: 7.3226 - val_loss: 8.6576 - val_mse: 7.7956\n",
      "Epoch 14/500\n",
      "264/264 [==============================] - 12s 44ms/step - loss: 8.6082 - mse: 7.7559 - val_loss: 9.1504 - val_mse: 8.3395\n",
      "Epoch 15/500\n",
      "264/264 [==============================] - 12s 44ms/step - loss: 8.0933 - mse: 7.1337 - val_loss: 7.7925 - val_mse: 7.0694\n",
      "Epoch 16/500\n",
      "264/264 [==============================] - 12s 44ms/step - loss: 8.0288 - mse: 7.1237 - val_loss: 9.0824 - val_mse: 7.9335\n",
      "Epoch 17/500\n",
      "264/264 [==============================] - 11s 43ms/step - loss: 8.1517 - mse: 7.1235 - val_loss: 8.0950 - val_mse: 7.3257\n",
      "Epoch 18/500\n",
      "264/264 [==============================] - 12s 45ms/step - loss: 7.6417 - mse: 6.5980 - val_loss: 8.5464 - val_mse: 7.5963\n",
      "Epoch 19/500\n",
      "264/264 [==============================] - 11s 43ms/step - loss: 7.6470 - mse: 6.7443 - val_loss: 9.7596 - val_mse: 8.6850\n",
      "Epoch 20/500\n",
      "264/264 [==============================] - 12s 46ms/step - loss: 7.5942 - mse: 6.5689 - val_loss: 8.2120 - val_mse: 7.1008\n",
      "Epoch 21/500\n",
      "264/264 [==============================] - 12s 45ms/step - loss: 7.3355 - mse: 6.2956 - val_loss: 7.9349 - val_mse: 7.1545\n",
      "Epoch 22/500\n",
      "264/264 [==============================] - 12s 44ms/step - loss: 7.1188 - mse: 6.2106 - val_loss: 8.6640 - val_mse: 7.9828\n",
      "Epoch 23/500\n",
      "264/264 [==============================] - 12s 44ms/step - loss: 7.4157 - mse: 6.4963 - val_loss: 8.4498 - val_mse: 7.1931\n",
      "Epoch 24/500\n",
      "264/264 [==============================] - 11s 43ms/step - loss: 7.3249 - mse: 6.4229 - val_loss: 7.8532 - val_mse: 6.8837\n",
      "Epoch 25/500\n",
      "264/264 [==============================] - 11s 43ms/step - loss: 6.6917 - mse: 5.7783 - val_loss: 8.3402 - val_mse: 7.2839\n",
      "Epoch 26/500\n",
      "264/264 [==============================] - 11s 43ms/step - loss: 7.0512 - mse: 6.0217 - val_loss: 8.7217 - val_mse: 7.5610\n",
      "Epoch 27/500\n",
      "264/264 [==============================] - 12s 44ms/step - loss: 6.8270 - mse: 5.9108 - val_loss: 8.4279 - val_mse: 7.1432\n",
      "Epoch 28/500\n",
      "264/264 [==============================] - 12s 44ms/step - loss: 6.5280 - mse: 5.5992 - val_loss: 7.7582 - val_mse: 6.9363\n",
      "Epoch 29/500\n",
      "264/264 [==============================] - 12s 44ms/step - loss: 6.7401 - mse: 5.8292 - val_loss: 7.4652 - val_mse: 6.6378\n",
      "Epoch 30/500\n",
      "264/264 [==============================] - 12s 44ms/step - loss: 6.6093 - mse: 5.6134 - val_loss: 8.4426 - val_mse: 7.6209\n",
      "Epoch 31/500\n",
      "264/264 [==============================] - 11s 43ms/step - loss: 6.4664 - mse: 5.4944 - val_loss: 8.4778 - val_mse: 7.3238\n",
      "Epoch 32/500\n",
      "264/264 [==============================] - 12s 44ms/step - loss: 6.5591 - mse: 5.6538 - val_loss: 7.8294 - val_mse: 6.8468\n",
      "Epoch 33/500\n",
      "264/264 [==============================] - 11s 43ms/step - loss: 6.4278 - mse: 5.5891 - val_loss: 7.8499 - val_mse: 6.8260\n",
      "Epoch 34/500\n",
      "264/264 [==============================] - 11s 43ms/step - loss: 6.4788 - mse: 5.5275 - val_loss: 8.6480 - val_mse: 7.7912\n"
     ]
    }
   ],
   "source": [
    "diabetes_model, history = build_diabetes_model(diabetes_train_ds, diabetes_val_ds,  claim_feature_layer,  epochs=500)"
   ]
  },
  {
   "cell_type": "markdown",
   "metadata": {},
   "source": [
    "## Show Model Uncertainty Range with TF Probability"
   ]
  },
  {
   "cell_type": "markdown",
   "metadata": {},
   "source": [
    "**Question 9**: Now that we have trained a model with TF Probability layers, we can extract the mean and standard deviation for each prediction. Please fill in the answer for the m and s variables below. The code for getting the predictions is provided for you below."
   ]
  },
  {
   "cell_type": "code",
   "execution_count": 60,
   "metadata": {},
   "outputs": [],
   "source": [
    "feature_list = student_categorical_col_list + student_numerical_col_list\n",
    "diabetes_x_tst = dict(d_test[feature_list])\n",
    "diabetes_yhat = diabetes_model(diabetes_x_tst)\n",
    "preds = diabetes_model.predict(diabetes_test_ds)"
   ]
  },
  {
   "cell_type": "code",
   "execution_count": 61,
   "metadata": {},
   "outputs": [
    {
     "data": {
      "text/plain": [
       "array([[1.1337998],\n",
       "       [9.457162 ],\n",
       "       [7.608242 ],\n",
       "       ...,\n",
       "       [3.82772  ],\n",
       "       [3.3450313],\n",
       "       [9.256319 ]], dtype=float32)"
      ]
     },
     "execution_count": 61,
     "metadata": {},
     "output_type": "execute_result"
    }
   ],
   "source": [
    "preds"
   ]
  },
  {
   "cell_type": "code",
   "execution_count": 62,
   "metadata": {},
   "outputs": [],
   "source": [
    "from student_utils import get_mean_std_from_preds\n",
    "m, s = get_mean_std_from_preds(diabetes_yhat)"
   ]
  },
  {
   "cell_type": "markdown",
   "metadata": {},
   "source": [
    "## Show Prediction Output "
   ]
  },
  {
   "cell_type": "code",
   "execution_count": 63,
   "metadata": {},
   "outputs": [],
   "source": [
    "prob_outputs = {\n",
    "    \"pred\": preds.flatten(),\n",
    "    \"actual_value\": d_test['time_in_hospital'].values,\n",
    "    \"pred_mean\": m.numpy().flatten(),\n",
    "    \"pred_std\": s.numpy().flatten()\n",
    "}\n",
    "prob_output_df = pd.DataFrame(prob_outputs)"
   ]
  },
  {
   "cell_type": "code",
   "execution_count": 64,
   "metadata": {},
   "outputs": [
    {
     "data": {
      "text/html": [
       "<div>\n",
       "<style scoped>\n",
       "    .dataframe tbody tr th:only-of-type {\n",
       "        vertical-align: middle;\n",
       "    }\n",
       "\n",
       "    .dataframe tbody tr th {\n",
       "        vertical-align: top;\n",
       "    }\n",
       "\n",
       "    .dataframe thead th {\n",
       "        text-align: right;\n",
       "    }\n",
       "</style>\n",
       "<table border=\"1\" class=\"dataframe\">\n",
       "  <thead>\n",
       "    <tr style=\"text-align: right;\">\n",
       "      <th></th>\n",
       "      <th>pred</th>\n",
       "      <th>actual_value</th>\n",
       "      <th>pred_mean</th>\n",
       "      <th>pred_std</th>\n",
       "    </tr>\n",
       "  </thead>\n",
       "  <tbody>\n",
       "    <tr>\n",
       "      <th>0</th>\n",
       "      <td>1.133800</td>\n",
       "      <td>3.0</td>\n",
       "      <td>3.487583</td>\n",
       "      <td>0.692834</td>\n",
       "    </tr>\n",
       "    <tr>\n",
       "      <th>1</th>\n",
       "      <td>9.457162</td>\n",
       "      <td>6.0</td>\n",
       "      <td>4.166169</td>\n",
       "      <td>0.692889</td>\n",
       "    </tr>\n",
       "    <tr>\n",
       "      <th>2</th>\n",
       "      <td>7.608242</td>\n",
       "      <td>5.0</td>\n",
       "      <td>4.277864</td>\n",
       "      <td>0.692979</td>\n",
       "    </tr>\n",
       "    <tr>\n",
       "      <th>3</th>\n",
       "      <td>4.652229</td>\n",
       "      <td>5.0</td>\n",
       "      <td>4.160587</td>\n",
       "      <td>0.693170</td>\n",
       "    </tr>\n",
       "    <tr>\n",
       "      <th>4</th>\n",
       "      <td>3.932058</td>\n",
       "      <td>3.0</td>\n",
       "      <td>5.998327</td>\n",
       "      <td>0.693852</td>\n",
       "    </tr>\n",
       "  </tbody>\n",
       "</table>\n",
       "</div>"
      ],
      "text/plain": [
       "       pred  actual_value  pred_mean  pred_std\n",
       "0  1.133800           3.0   3.487583  0.692834\n",
       "1  9.457162           6.0   4.166169  0.692889\n",
       "2  7.608242           5.0   4.277864  0.692979\n",
       "3  4.652229           5.0   4.160587  0.693170\n",
       "4  3.932058           3.0   5.998327  0.693852"
      ]
     },
     "execution_count": 64,
     "metadata": {},
     "output_type": "execute_result"
    }
   ],
   "source": [
    "prob_output_df.head()"
   ]
  },
  {
   "cell_type": "markdown",
   "metadata": {},
   "source": [
    "## Convert Regression Output to Classification Output for Patient Selection"
   ]
  },
  {
   "cell_type": "markdown",
   "metadata": {},
   "source": [
    "**Question 10**: Given the output predictions, convert it to a binary label for whether the patient meets the time criteria or does not (HINT: use the mean prediction numpy array). The expected output is a numpy array with a 1 or 0 based off if the prediction meets or doesnt meet the criteria."
   ]
  },
  {
   "cell_type": "code",
   "execution_count": 65,
   "metadata": {},
   "outputs": [],
   "source": [
    "from student_utils import get_student_binary_prediction\n",
    "student_binary_prediction = get_student_binary_prediction(prob_output_df, 'pred_mean')"
   ]
  },
  {
   "cell_type": "markdown",
   "metadata": {},
   "source": [
    "### Add Binary Prediction to Test Dataframe"
   ]
  },
  {
   "cell_type": "markdown",
   "metadata": {},
   "source": [
    "Using the student_binary_prediction output that is a numpy array with binary labels, we can use this to add to a dataframe to better visualize and also to prepare the data for the Aequitas toolkit. The Aequitas toolkit requires that the predictions be mapped to a binary label for the predictions (called 'score' field) and the actual value (called 'label_value')."
   ]
  },
  {
   "cell_type": "code",
   "execution_count": 66,
   "metadata": {},
   "outputs": [],
   "source": [
    "def add_pred_to_test(test_df, pred_np, demo_col_list):\n",
    "    for c in demo_col_list:\n",
    "        test_df[c] = test_df[c].astype(str)\n",
    "    test_df['score'] = pred_np\n",
    "    test_df['label_value'] = test_df['time_in_hospital'].apply(lambda x: 1 if x >=5 else 0)\n",
    "    return test_df\n",
    "\n",
    "pred_test_df = add_pred_to_test(d_test, student_binary_prediction, ['race', 'gender'])"
   ]
  },
  {
   "cell_type": "code",
   "execution_count": 67,
   "metadata": {},
   "outputs": [
    {
     "data": {
      "text/html": [
       "<div>\n",
       "<style scoped>\n",
       "    .dataframe tbody tr th:only-of-type {\n",
       "        vertical-align: middle;\n",
       "    }\n",
       "\n",
       "    .dataframe tbody tr th {\n",
       "        vertical-align: top;\n",
       "    }\n",
       "\n",
       "    .dataframe thead th {\n",
       "        text-align: right;\n",
       "    }\n",
       "</style>\n",
       "<table border=\"1\" class=\"dataframe\">\n",
       "  <thead>\n",
       "    <tr style=\"text-align: right;\">\n",
       "      <th></th>\n",
       "      <th>patient_nbr</th>\n",
       "      <th>gender</th>\n",
       "      <th>race</th>\n",
       "      <th>time_in_hospital</th>\n",
       "      <th>score</th>\n",
       "      <th>label_value</th>\n",
       "    </tr>\n",
       "  </thead>\n",
       "  <tbody>\n",
       "    <tr>\n",
       "      <th>0</th>\n",
       "      <td>4598280</td>\n",
       "      <td>Female</td>\n",
       "      <td>AfricanAmerican</td>\n",
       "      <td>3.0</td>\n",
       "      <td>1</td>\n",
       "      <td>0</td>\n",
       "    </tr>\n",
       "    <tr>\n",
       "      <th>1</th>\n",
       "      <td>99423000</td>\n",
       "      <td>Male</td>\n",
       "      <td>Caucasian</td>\n",
       "      <td>6.0</td>\n",
       "      <td>1</td>\n",
       "      <td>1</td>\n",
       "    </tr>\n",
       "    <tr>\n",
       "      <th>2</th>\n",
       "      <td>93936744</td>\n",
       "      <td>Male</td>\n",
       "      <td>Caucasian</td>\n",
       "      <td>5.0</td>\n",
       "      <td>1</td>\n",
       "      <td>1</td>\n",
       "    </tr>\n",
       "    <tr>\n",
       "      <th>3</th>\n",
       "      <td>61056639</td>\n",
       "      <td>Male</td>\n",
       "      <td>Caucasian</td>\n",
       "      <td>5.0</td>\n",
       "      <td>1</td>\n",
       "      <td>1</td>\n",
       "    </tr>\n",
       "    <tr>\n",
       "      <th>4</th>\n",
       "      <td>48327336</td>\n",
       "      <td>Female</td>\n",
       "      <td>Caucasian</td>\n",
       "      <td>3.0</td>\n",
       "      <td>1</td>\n",
       "      <td>0</td>\n",
       "    </tr>\n",
       "  </tbody>\n",
       "</table>\n",
       "</div>"
      ],
      "text/plain": [
       "   patient_nbr  gender             race  time_in_hospital  score  label_value\n",
       "0      4598280  Female  AfricanAmerican               3.0      1            0\n",
       "1     99423000    Male        Caucasian               6.0      1            1\n",
       "2     93936744    Male        Caucasian               5.0      1            1\n",
       "3     61056639    Male        Caucasian               5.0      1            1\n",
       "4     48327336  Female        Caucasian               3.0      1            0"
      ]
     },
     "execution_count": 67,
     "metadata": {},
     "output_type": "execute_result"
    }
   ],
   "source": [
    "pred_test_df[['patient_nbr', 'gender', 'race', 'time_in_hospital', 'score', 'label_value']].head()"
   ]
  },
  {
   "cell_type": "markdown",
   "metadata": {},
   "source": [
    "## Model Evaluation Metrics "
   ]
  },
  {
   "cell_type": "markdown",
   "metadata": {},
   "source": [
    "**Question 11**: Now it is time to use the newly created binary labels in the 'pred_test_df' dataframe to evaluate the model with some common classification metrics. Please create a report summary of the performance of the model and be sure to give the ROC AUC, F1 score(weighted), class precision and recall scores. "
   ]
  },
  {
   "cell_type": "markdown",
   "metadata": {},
   "source": [
    "For the report please be sure to include the following three parts:\n",
    "- With a non-technical audience in mind, explain the precision-recall tradeoff in regard to how you have optimized your model.\n",
    "\n",
    "- What are some areas of improvement for future iterations?"
   ]
  },
  {
   "cell_type": "code",
   "execution_count": 69,
   "metadata": {},
   "outputs": [
    {
     "name": "stdout",
     "output_type": "stream",
     "text": [
      "[[   0 7012]\n",
      " [   0 4215]]\n"
     ]
    }
   ],
   "source": [
    "\n",
    "from sklearn.metrics import confusion_matrix\n",
    "print(confusion_matrix(pred_test_df['label_value'], pred_test_df['score']))"
   ]
  },
  {
   "cell_type": "code",
   "execution_count": 70,
   "metadata": {},
   "outputs": [
    {
     "name": "stdout",
     "output_type": "stream",
     "text": [
      "              precision    recall  f1-score   support\n",
      "\n",
      "           0       0.00      0.00      0.00      7012\n",
      "           1       0.38      1.00      0.55      4215\n",
      "\n",
      "    accuracy                           0.38     11227\n",
      "   macro avg       0.19      0.50      0.27     11227\n",
      "weighted avg       0.14      0.38      0.20     11227\n",
      "\n"
     ]
    },
    {
     "name": "stderr",
     "output_type": "stream",
     "text": [
      "/opt/conda/lib/python3.7/site-packages/sklearn/metrics/_classification.py:1272: UndefinedMetricWarning: Precision and F-score are ill-defined and being set to 0.0 in labels with no predicted samples. Use `zero_division` parameter to control this behavior.\n",
      "  _warn_prf(average, modifier, msg_start, len(result))\n"
     ]
    }
   ],
   "source": [
    "# AUC, F1, precision and recall\n",
    "# Summary\n",
    "from sklearn.metrics import classification_report\n",
    "print(classification_report(pred_test_df['label_value'], pred_test_df['score']))"
   ]
  },
  {
   "cell_type": "code",
   "execution_count": 71,
   "metadata": {},
   "outputs": [
    {
     "name": "stdout",
     "output_type": "stream",
     "text": [
      "AUC score :  0.5\n",
      "F1 score :  0.20495470040509475\n",
      "Precision score:  0.37543422107419616\n",
      "Recall score :  0.37543422107419616\n"
     ]
    }
   ],
   "source": [
    "from sklearn.metrics import auc, f1_score, roc_auc_score, recall_score, precision_score\n",
    "print(\"AUC score : \",roc_auc_score(pred_test_df['label_value'], pred_test_df['score']))\n",
    "print(\"F1 score : \", f1_score(pred_test_df['label_value'], pred_test_df['score'], average='weighted'))\n",
    "print(\"Precision score: \", precision_score(pred_test_df['label_value'], pred_test_df['score'], average='micro'))\n",
    "print(\"Recall score : \", recall_score(pred_test_df['label_value'], pred_test_df['score'], average='micro'))"
   ]
  },
  {
   "cell_type": "markdown",
   "metadata": {},
   "source": [
    "# 7. Evaluating Potential Model Biases with Aequitas Toolkit"
   ]
  },
  {
   "cell_type": "markdown",
   "metadata": {},
   "source": [
    "## Prepare Data For Aequitas Bias Toolkit "
   ]
  },
  {
   "cell_type": "markdown",
   "metadata": {},
   "source": [
    "Using the gender and race fields, we will prepare the data for the Aequitas Toolkit."
   ]
  },
  {
   "cell_type": "code",
   "execution_count": 72,
   "metadata": {},
   "outputs": [
    {
     "name": "stderr",
     "output_type": "stream",
     "text": [
      "/opt/conda/lib/python3.7/site-packages/aequitas/group.py:143: SettingWithCopyWarning: \n",
      "A value is trying to be set on a copy of a slice from a DataFrame.\n",
      "Try using .loc[row_indexer,col_indexer] = value instead\n",
      "\n",
      "See the caveats in the documentation: https://pandas.pydata.org/pandas-docs/stable/user_guide/indexing.html#returning-a-view-versus-a-copy\n",
      "  df['score'] = df['score'].astype(float)\n",
      "/opt/conda/lib/python3.7/site-packages/aequitas/group.py:30: FutureWarning: The pandas.np module is deprecated and will be removed from pandas in a future version. Import numpy directly instead\n",
      "  divide = lambda x, y: x / y if y != 0 else pd.np.nan\n"
     ]
    },
    {
     "name": "stdout",
     "output_type": "stream",
     "text": [
      "model_id, score_thresholds 1 {'rank_abs': [11227]}\n"
     ]
    }
   ],
   "source": [
    "# Aequitas\n",
    "from aequitas.preprocessing import preprocess_input_df\n",
    "from aequitas.group import Group\n",
    "from aequitas.plotting import Plot\n",
    "from aequitas.bias import Bias\n",
    "from aequitas.fairness import Fairness\n",
    "\n",
    "ae_subset_df = pred_test_df[['race', 'gender', 'score', 'label_value']]\n",
    "ae_df, _ = preprocess_input_df(ae_subset_df)\n",
    "g = Group()\n",
    "xtab, _ = g.get_crosstabs(ae_df)\n",
    "absolute_metrics = g.list_absolute_metrics(xtab)\n",
    "clean_xtab = xtab.fillna(-1)\n",
    "aqp = Plot()\n",
    "b = Bias()\n"
   ]
  },
  {
   "cell_type": "markdown",
   "metadata": {},
   "source": [
    "## Reference Group Selection"
   ]
  },
  {
   "cell_type": "markdown",
   "metadata": {},
   "source": [
    "Below we have chosen the reference group for our analysis but feel free to select another one."
   ]
  },
  {
   "cell_type": "code",
   "execution_count": 73,
   "metadata": {},
   "outputs": [
    {
     "name": "stdout",
     "output_type": "stream",
     "text": [
      "get_disparity_predefined_group()\n"
     ]
    },
    {
     "name": "stderr",
     "output_type": "stream",
     "text": [
      "/opt/conda/lib/python3.7/site-packages/aequitas/bias.py:368: FutureWarning: The pandas.np module is deprecated and will be removed from pandas in a future version. Import numpy directly instead\n",
      "  df = df.replace(pd.np.inf, fill_divbyzero)\n",
      "/opt/conda/lib/python3.7/site-packages/aequitas/fairness.py:32: FutureWarning: The pandas.np module is deprecated and will be removed from pandas in a future version. Import numpy directly instead\n",
      "  self.fair_eval = lambda tau: lambda x: pd.np.nan if pd.np.isnan(x) else \\\n",
      "/opt/conda/lib/python3.7/site-packages/aequitas/fairness.py:45: FutureWarning: The pandas.np module is deprecated and will be removed from pandas in a future version. Import numpy directly instead\n",
      "  self.high_level_pair_eval = lambda col1, col2: lambda x: pd.np.nan if (pd.np.isnan(x[col1]) and pd.np.isnan(x[col2])) \\\n"
     ]
    }
   ],
   "source": [
    "# test reference group with Caucasian Male\n",
    "bdf = b.get_disparity_predefined_groups(clean_xtab, \n",
    "                    original_df=ae_df, \n",
    "                    ref_groups_dict={'race':'Caucasian', 'gender':'Male'\n",
    "                                     }, \n",
    "                    alpha=0.05, \n",
    "                    check_significance=False)\n",
    "\n",
    "\n",
    "f = Fairness()\n",
    "fdf = f.get_group_value_fairness(bdf)"
   ]
  },
  {
   "cell_type": "markdown",
   "metadata": {},
   "source": [
    "## Race and Gender Bias Analysis for Patient Selection"
   ]
  },
  {
   "cell_type": "markdown",
   "metadata": {},
   "source": [
    "**Question 12**: For the gender and race fields, please plot two metrics that are important for patient selection below and state whether there is a significant bias in your model across any of the groups along with justification for your statement."
   ]
  },
  {
   "cell_type": "code",
   "execution_count": 74,
   "metadata": {},
   "outputs": [
    {
     "data": {
      "image/png": "[encoded data removed]",
      "text/plain": [
       "<Figure size 720x360 with 1 Axes>"
      ]
     },
     "metadata": {
      "needs_background": "light"
     },
     "output_type": "display_data"
    }
   ],
   "source": [
    "# Plot two metrics\n",
    "\n",
    "# Is there significant bias in your model for either race or gender?\n",
    "tpr = aqp.plot_group_metric(clean_xtab, 'tpr')"
   ]
  },
  {
   "cell_type": "code",
   "execution_count": 75,
   "metadata": {},
   "outputs": [
    {
     "data": {
      "image/png": "[encoded data removed]",
      "text/plain": [
       "<Figure size 720x360 with 1 Axes>"
      ]
     },
     "metadata": {
      "needs_background": "light"
     },
     "output_type": "display_data"
    }
   ],
   "source": [
    "\n",
    "fpr = aqp.plot_group_metric(clean_xtab, 'fpr')"
   ]
  },
  {
   "cell_type": "code",
   "execution_count": 76,
   "metadata": {},
   "outputs": [
    {
     "data": {
      "image/png": "[encoded data removed]",
      "text/plain": [
       "<Figure size 720x360 with 1 Axes>"
      ]
     },
     "metadata": {
      "needs_background": "light"
     },
     "output_type": "display_data"
    }
   ],
   "source": [
    "\n",
    "tnr = aqp.plot_group_metric(clean_xtab, 'tnr')"
   ]
  },
  {
   "cell_type": "code",
   "execution_count": 77,
   "metadata": {},
   "outputs": [
    {
     "data": {
      "image/png": "[encoded data removed]",
      "text/plain": [
       "<Figure size 720x360 with 1 Axes>"
      ]
     },
     "metadata": {
      "needs_background": "light"
     },
     "output_type": "display_data"
    }
   ],
   "source": [
    "precision = aqp.plot_group_metric(clean_xtab, 'precision')"
   ]
  },
  {
   "cell_type": "markdown",
   "metadata": {},
   "source": [
    "## Fairness Analysis Example - Relative to a Reference Group "
   ]
  },
  {
   "cell_type": "markdown",
   "metadata": {},
   "source": [
    "**Question 13**: Earlier we defined our reference group and then calculated disparity metrics relative to this grouping. Please provide a visualization of the fairness evaluation for this reference group and analyze whether there is disparity."
   ]
  },
  {
   "cell_type": "code",
   "execution_count": 78,
   "metadata": {},
   "outputs": [
    {
     "data": {
      "image/png": "[encoded data removed]",
      "text/plain": [
       "<Figure size 720x360 with 1 Axes>"
      ]
     },
     "metadata": {
      "needs_background": "light"
     },
     "output_type": "display_data"
    }
   ],
   "source": [
    "# Reference group fairness plot\n",
    "fpr_fairness = aqp.plot_fairness_group(fdf, group_metric='fpr', title=True)\n"
   ]
  },
  {
   "cell_type": "code",
   "execution_count": 79,
   "metadata": {},
   "outputs": [
    {
     "data": {
      "image/png": "[encoded data removed]",
      "text/plain": [
       "<Figure size 360x288 with 1 Axes>"
      ]
     },
     "metadata": {
      "needs_background": "light"
     },
     "output_type": "display_data"
    }
   ],
   "source": [
    "fpr_disparity_fairness = aqp.plot_fairness_disparity(fdf, group_metric='tpr', attribute_name='race')\n"
   ]
  },
  {
   "cell_type": "code",
   "execution_count": 80,
   "metadata": {},
   "outputs": [
    {
     "data": {
      "image/png": "[encoded data removed]",
      "text/plain": [
       "<Figure size 360x288 with 1 Axes>"
      ]
     },
     "metadata": {
      "needs_background": "light"
     },
     "output_type": "display_data"
    }
   ],
   "source": [
    "tpr_disparity_fairness = aqp.plot_fairness_disparity(fdf, group_metric='tpr', attribute_name='gender')"
   ]
  },
  {
   "cell_type": "code",
   "execution_count": null,
   "metadata": {},
   "outputs": [],
   "source": []
  }
 ],
 "metadata": {
  "kernelspec": {
   "display_name": "Python 3",
   "language": "python",
   "name": "python3"
  },
  "language_info": {
   "codemirror_mode": {
    "name": "ipython",
    "version": 3
   },
   "file_extension": ".py",
   "mimetype": "text/x-python",
   "name": "python",
   "nbconvert_exporter": "python",
   "pygments_lexer": "ipython3",
   "version": "3.7.6"
  }
 },
 "nbformat": 4,
 "nbformat_minor": 2
}
